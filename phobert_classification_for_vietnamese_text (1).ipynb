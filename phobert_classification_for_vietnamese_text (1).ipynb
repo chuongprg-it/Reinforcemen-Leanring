{
  "cells": [
    {
      "cell_type": "markdown",
      "id": "1587581f",
      "metadata": {
        "papermill": {
          "duration": 0.028007,
          "end_time": "2022-04-07T12:00:53.037973",
          "exception": false,
          "start_time": "2022-04-07T12:00:53.009966",
          "status": "completed"
        },
        "tags": [],
        "id": "1587581f"
      },
      "source": [
        "Dataset: http://nlp.uit.edu.vn/datasets/\n",
        "\n",
        "Classify 7 states of emotions in terms of enjoyment, disgust, sadness, anger, surprise, fear and others from text using PhoBert, a state of the art pre-trained BERT for the Vietnamese language\n",
        "\n",
        "### About data:\n",
        "\n",
        "Emotion recognition is a higher approach or special case of sentiment analysis. In this task, the result is not produced in terms of either polarity: positive or negative or in the form of rating (from 1 to 5) but of a more detailed level of sentiment analysis in which the result are depicted in more expressions like sadness, enjoyment, anger, disgust, fear and surprise. Emotion recognition plays a critical role in measuring brand value of a product by recognizing specific emotions of customers’ comments. In this study, we have achieved two targets. First and foremost, we built a standard Vietnamese Social Media Emotion Corpus (UIT-VSMEC) with about 6,927 human-annotated sentences with six emotion labels, contributing to emotion recognition research in Vietnamese which is a low-resource language in Natural Language Processing (NLP). Secondly, we assessed and measured machine learning and deep neural network models on our UIT-VSMEC. As a result, Convolutional Neural Network (CNN) model achieved the highest performance with 57.61% of F1-score."
      ]
    },
    {
      "cell_type": "markdown",
      "id": "b0f76a58",
      "metadata": {
        "papermill": {
          "duration": 0.026169,
          "end_time": "2022-04-07T12:00:53.092358",
          "exception": false,
          "start_time": "2022-04-07T12:00:53.066189",
          "status": "completed"
        },
        "tags": [],
        "id": "b0f76a58"
      },
      "source": [
        "### Set Up"
      ]
    },
    {
      "cell_type": "code",
      "execution_count": null,
      "id": "23da7292",
      "metadata": {
        "_kg_hide-output": true,
        "execution": {
          "iopub.execute_input": "2022-04-07T12:00:53.155726Z",
          "iopub.status.busy": "2022-04-07T12:00:53.154857Z",
          "iopub.status.idle": "2022-04-07T12:01:03.151781Z",
          "shell.execute_reply": "2022-04-07T12:01:03.152512Z",
          "shell.execute_reply.started": "2022-04-07T10:55:44.226031Z"
        },
        "papermill": {
          "duration": 10.03404,
          "end_time": "2022-04-07T12:01:03.152791",
          "exception": false,
          "start_time": "2022-04-07T12:00:53.118751",
          "status": "completed"
        },
        "tags": [],
        "colab": {
          "base_uri": "https://localhost:8080/"
        },
        "id": "23da7292",
        "outputId": "7ecafb1b-40c1-4238-9080-b0342459c17e"
      },
      "outputs": [
        {
          "output_type": "stream",
          "name": "stdout",
          "text": [
            "Requirement already satisfied: openpyxl in /usr/local/lib/python3.10/dist-packages (3.1.2)\n",
            "Requirement already satisfied: et-xmlfile in /usr/local/lib/python3.10/dist-packages (from openpyxl) (1.1.0)\n"
          ]
        }
      ],
      "source": [
        "# For read excel format form pandas\n",
        "!pip install openpyxl"
      ]
    },
    {
      "cell_type": "code",
      "execution_count": null,
      "id": "5dd5b2e4",
      "metadata": {
        "execution": {
          "iopub.execute_input": "2022-04-07T12:01:03.227095Z",
          "iopub.status.busy": "2022-04-07T12:01:03.226159Z",
          "iopub.status.idle": "2022-04-07T12:01:10.538091Z",
          "shell.execute_reply": "2022-04-07T12:01:10.537609Z",
          "shell.execute_reply.started": "2022-04-07T10:55:54.233731Z"
        },
        "papermill": {
          "duration": 7.351928,
          "end_time": "2022-04-07T12:01:10.538229",
          "exception": false,
          "start_time": "2022-04-07T12:01:03.186301",
          "status": "completed"
        },
        "tags": [],
        "id": "5dd5b2e4"
      },
      "outputs": [],
      "source": [
        "import torch\n",
        "import numpy as np\n",
        "import pandas as pd\n",
        "import seaborn as sns\n",
        "import matplotlib.pyplot as plt\n",
        "\n",
        "from gensim.utils import simple_preprocess\n",
        "from sklearn.model_selection import StratifiedKFold\n",
        "from sklearn.metrics import classification_report, confusion_matrix\n",
        "\n",
        "import torch.nn as nn\n",
        "from torch.optim import AdamW\n",
        "from torch.utils.data import Dataset, DataLoader\n",
        "\n",
        "from transformers import get_linear_schedule_with_warmup, AutoTokenizer, AutoModel, logging\n",
        "\n",
        "import warnings\n",
        "warnings.filterwarnings(\"ignore\")\n",
        "\n",
        "logging.set_verbosity_error()"
      ]
    },
    {
      "cell_type": "code",
      "execution_count": null,
      "id": "c021ff53",
      "metadata": {
        "execution": {
          "iopub.execute_input": "2022-04-07T12:01:10.605198Z",
          "iopub.status.busy": "2022-04-07T12:01:10.604529Z",
          "iopub.status.idle": "2022-04-07T12:01:10.661286Z",
          "shell.execute_reply": "2022-04-07T12:01:10.660817Z",
          "shell.execute_reply.started": "2022-04-07T10:56:01.49057Z"
        },
        "papermill": {
          "duration": 0.092672,
          "end_time": "2022-04-07T12:01:10.661406",
          "exception": false,
          "start_time": "2022-04-07T12:01:10.568734",
          "status": "completed"
        },
        "tags": [],
        "id": "c021ff53"
      },
      "outputs": [],
      "source": [
        "def seed_everything(seed_value):\n",
        "    np.random.seed(seed_value)\n",
        "    torch.manual_seed(seed_value)\n",
        "\n",
        "    if torch.cuda.is_available():\n",
        "        torch.cuda.manual_seed(seed_value)\n",
        "        torch.cuda.manual_seed_all(seed_value)\n",
        "        torch.backends.cudnn.deterministic = True\n",
        "        torch.backends.cudnn.benchmark = True\n",
        "\n",
        "seed_everything(86)"
      ]
    },
    {
      "cell_type": "code",
      "execution_count": null,
      "id": "ac940f5c",
      "metadata": {
        "execution": {
          "iopub.execute_input": "2022-04-07T12:01:10.726045Z",
          "iopub.status.busy": "2022-04-07T12:01:10.725267Z",
          "iopub.status.idle": "2022-04-07T12:01:10.727744Z",
          "shell.execute_reply": "2022-04-07T12:01:10.727329Z",
          "shell.execute_reply.started": "2022-04-07T10:56:01.55073Z"
        },
        "papermill": {
          "duration": 0.036841,
          "end_time": "2022-04-07T12:01:10.727849",
          "exception": false,
          "start_time": "2022-04-07T12:01:10.691008",
          "status": "completed"
        },
        "tags": [],
        "id": "ac940f5c"
      },
      "outputs": [],
      "source": [
        "device = torch.device('cuda:0' if torch.cuda.is_available() else 'cpu')\n",
        "EPOCHS = 6\n",
        "N_SPLITS = 5"
      ]
    },
    {
      "cell_type": "markdown",
      "id": "1eab4c51",
      "metadata": {
        "papermill": {
          "duration": 0.028776,
          "end_time": "2022-04-07T12:01:10.785833",
          "exception": false,
          "start_time": "2022-04-07T12:01:10.757057",
          "status": "completed"
        },
        "tags": [],
        "id": "1eab4c51"
      },
      "source": [
        "### Load Data"
      ]
    },
    {
      "cell_type": "code",
      "execution_count": null,
      "id": "8009a3e0",
      "metadata": {
        "execution": {
          "iopub.execute_input": "2022-04-07T12:01:10.851099Z",
          "iopub.status.busy": "2022-04-07T12:01:10.850469Z",
          "iopub.status.idle": "2022-04-07T12:01:11.812555Z",
          "shell.execute_reply": "2022-04-07T12:01:11.811616Z",
          "shell.execute_reply.started": "2022-04-07T10:56:01.56172Z"
        },
        "papermill": {
          "duration": 0.99781,
          "end_time": "2022-04-07T12:01:11.812711",
          "exception": false,
          "start_time": "2022-04-07T12:01:10.814901",
          "status": "completed"
        },
        "tags": [],
        "id": "8009a3e0"
      },
      "outputs": [],
      "source": [
        "def get_data(path):\n",
        "    df = pd.read_excel(path, sheet_name=None)['Sheet1']\n",
        "    df.columns = ['index', 'Emotion', 'Sentence']\n",
        "    # unused column\n",
        "    df.drop(columns=['index'], inplace=True)\n",
        "    return df\n",
        "\n",
        "train_df = get_data('/content/train_nor_811.xlsx')\n",
        "valid_df = get_data('/content/valid_nor_811.xlsx')\n",
        "test_df = get_data('/content/test_nor_811.xlsx')\n",
        "\n",
        "# We will use Kfold later\n",
        "train_df = pd.concat([train_df, valid_df], ignore_index=True)\n",
        "skf = StratifiedKFold(n_splits=N_SPLITS)\n",
        "for fold, (_, val_) in enumerate(skf.split(X=train_df, y=train_df.Emotion)):\n",
        "    train_df.loc[val_, \"kfold\"] = fold"
      ]
    },
    {
      "cell_type": "code",
      "execution_count": null,
      "id": "8fb17bf5",
      "metadata": {
        "execution": {
          "iopub.execute_input": "2022-04-07T12:01:11.878801Z",
          "iopub.status.busy": "2022-04-07T12:01:11.877998Z",
          "iopub.status.idle": "2022-04-07T12:01:11.888309Z",
          "shell.execute_reply": "2022-04-07T12:01:11.888717Z",
          "shell.execute_reply.started": "2022-04-07T10:56:02.611753Z"
        },
        "papermill": {
          "duration": 0.046463,
          "end_time": "2022-04-07T12:01:11.888839",
          "exception": false,
          "start_time": "2022-04-07T12:01:11.842376",
          "status": "completed"
        },
        "tags": [],
        "colab": {
          "base_uri": "https://localhost:8080/",
          "height": 206
        },
        "id": "8fb17bf5",
        "outputId": "1a264947-93d1-4772-e7d7-7cb0fa5547c5"
      },
      "outputs": [
        {
          "output_type": "execute_result",
          "data": {
            "text/plain": [
              "        Emotion                                           Sentence  kfold\n",
              "3706  Enjoyment  dễ thương ghê ! làm mình nhớ các cậu bạn cùng ...    2.0\n",
              "3913  Enjoyment                               đáng yêuc vãi anh ơi    3.0\n",
              "234    Surprise                                  bất ngờ chưa =)))    0.0\n",
              "658    Surprise              cha con y chang nhau 😂 1 khuôn đúc ra    0.0\n",
              "821   Enjoyment              lợi ích của việc giữ vững quan điểm 😄    0.0"
            ],
            "text/html": [
              "\n",
              "  <div id=\"df-a51f0146-8749-41dd-9c9d-fc55312b98b7\" class=\"colab-df-container\">\n",
              "    <div>\n",
              "<style scoped>\n",
              "    .dataframe tbody tr th:only-of-type {\n",
              "        vertical-align: middle;\n",
              "    }\n",
              "\n",
              "    .dataframe tbody tr th {\n",
              "        vertical-align: top;\n",
              "    }\n",
              "\n",
              "    .dataframe thead th {\n",
              "        text-align: right;\n",
              "    }\n",
              "</style>\n",
              "<table border=\"1\" class=\"dataframe\">\n",
              "  <thead>\n",
              "    <tr style=\"text-align: right;\">\n",
              "      <th></th>\n",
              "      <th>Emotion</th>\n",
              "      <th>Sentence</th>\n",
              "      <th>kfold</th>\n",
              "    </tr>\n",
              "  </thead>\n",
              "  <tbody>\n",
              "    <tr>\n",
              "      <th>3706</th>\n",
              "      <td>Enjoyment</td>\n",
              "      <td>dễ thương ghê ! làm mình nhớ các cậu bạn cùng ...</td>\n",
              "      <td>2.0</td>\n",
              "    </tr>\n",
              "    <tr>\n",
              "      <th>3913</th>\n",
              "      <td>Enjoyment</td>\n",
              "      <td>đáng yêuc vãi anh ơi</td>\n",
              "      <td>3.0</td>\n",
              "    </tr>\n",
              "    <tr>\n",
              "      <th>234</th>\n",
              "      <td>Surprise</td>\n",
              "      <td>bất ngờ chưa =)))</td>\n",
              "      <td>0.0</td>\n",
              "    </tr>\n",
              "    <tr>\n",
              "      <th>658</th>\n",
              "      <td>Surprise</td>\n",
              "      <td>cha con y chang nhau 😂 1 khuôn đúc ra</td>\n",
              "      <td>0.0</td>\n",
              "    </tr>\n",
              "    <tr>\n",
              "      <th>821</th>\n",
              "      <td>Enjoyment</td>\n",
              "      <td>lợi ích của việc giữ vững quan điểm 😄</td>\n",
              "      <td>0.0</td>\n",
              "    </tr>\n",
              "  </tbody>\n",
              "</table>\n",
              "</div>\n",
              "    <div class=\"colab-df-buttons\">\n",
              "\n",
              "  <div class=\"colab-df-container\">\n",
              "    <button class=\"colab-df-convert\" onclick=\"convertToInteractive('df-a51f0146-8749-41dd-9c9d-fc55312b98b7')\"\n",
              "            title=\"Convert this dataframe to an interactive table.\"\n",
              "            style=\"display:none;\">\n",
              "\n",
              "  <svg xmlns=\"http://www.w3.org/2000/svg\" height=\"24px\" viewBox=\"0 -960 960 960\">\n",
              "    <path d=\"M120-120v-720h720v720H120Zm60-500h600v-160H180v160Zm220 220h160v-160H400v160Zm0 220h160v-160H400v160ZM180-400h160v-160H180v160Zm440 0h160v-160H620v160ZM180-180h160v-160H180v160Zm440 0h160v-160H620v160Z\"/>\n",
              "  </svg>\n",
              "    </button>\n",
              "\n",
              "  <style>\n",
              "    .colab-df-container {\n",
              "      display:flex;\n",
              "      gap: 12px;\n",
              "    }\n",
              "\n",
              "    .colab-df-convert {\n",
              "      background-color: #E8F0FE;\n",
              "      border: none;\n",
              "      border-radius: 50%;\n",
              "      cursor: pointer;\n",
              "      display: none;\n",
              "      fill: #1967D2;\n",
              "      height: 32px;\n",
              "      padding: 0 0 0 0;\n",
              "      width: 32px;\n",
              "    }\n",
              "\n",
              "    .colab-df-convert:hover {\n",
              "      background-color: #E2EBFA;\n",
              "      box-shadow: 0px 1px 2px rgba(60, 64, 67, 0.3), 0px 1px 3px 1px rgba(60, 64, 67, 0.15);\n",
              "      fill: #174EA6;\n",
              "    }\n",
              "\n",
              "    .colab-df-buttons div {\n",
              "      margin-bottom: 4px;\n",
              "    }\n",
              "\n",
              "    [theme=dark] .colab-df-convert {\n",
              "      background-color: #3B4455;\n",
              "      fill: #D2E3FC;\n",
              "    }\n",
              "\n",
              "    [theme=dark] .colab-df-convert:hover {\n",
              "      background-color: #434B5C;\n",
              "      box-shadow: 0px 1px 3px 1px rgba(0, 0, 0, 0.15);\n",
              "      filter: drop-shadow(0px 1px 2px rgba(0, 0, 0, 0.3));\n",
              "      fill: #FFFFFF;\n",
              "    }\n",
              "  </style>\n",
              "\n",
              "    <script>\n",
              "      const buttonEl =\n",
              "        document.querySelector('#df-a51f0146-8749-41dd-9c9d-fc55312b98b7 button.colab-df-convert');\n",
              "      buttonEl.style.display =\n",
              "        google.colab.kernel.accessAllowed ? 'block' : 'none';\n",
              "\n",
              "      async function convertToInteractive(key) {\n",
              "        const element = document.querySelector('#df-a51f0146-8749-41dd-9c9d-fc55312b98b7');\n",
              "        const dataTable =\n",
              "          await google.colab.kernel.invokeFunction('convertToInteractive',\n",
              "                                                    [key], {});\n",
              "        if (!dataTable) return;\n",
              "\n",
              "        const docLinkHtml = 'Like what you see? Visit the ' +\n",
              "          '<a target=\"_blank\" href=https://colab.research.google.com/notebooks/data_table.ipynb>data table notebook</a>'\n",
              "          + ' to learn more about interactive tables.';\n",
              "        element.innerHTML = '';\n",
              "        dataTable['output_type'] = 'display_data';\n",
              "        await google.colab.output.renderOutput(dataTable, element);\n",
              "        const docLink = document.createElement('div');\n",
              "        docLink.innerHTML = docLinkHtml;\n",
              "        element.appendChild(docLink);\n",
              "      }\n",
              "    </script>\n",
              "  </div>\n",
              "\n",
              "\n",
              "<div id=\"df-decd981f-8965-409c-ab5d-b43157632743\">\n",
              "  <button class=\"colab-df-quickchart\" onclick=\"quickchart('df-decd981f-8965-409c-ab5d-b43157632743')\"\n",
              "            title=\"Suggest charts\"\n",
              "            style=\"display:none;\">\n",
              "\n",
              "<svg xmlns=\"http://www.w3.org/2000/svg\" height=\"24px\"viewBox=\"0 0 24 24\"\n",
              "     width=\"24px\">\n",
              "    <g>\n",
              "        <path d=\"M19 3H5c-1.1 0-2 .9-2 2v14c0 1.1.9 2 2 2h14c1.1 0 2-.9 2-2V5c0-1.1-.9-2-2-2zM9 17H7v-7h2v7zm4 0h-2V7h2v10zm4 0h-2v-4h2v4z\"/>\n",
              "    </g>\n",
              "</svg>\n",
              "  </button>\n",
              "\n",
              "<style>\n",
              "  .colab-df-quickchart {\n",
              "      --bg-color: #E8F0FE;\n",
              "      --fill-color: #1967D2;\n",
              "      --hover-bg-color: #E2EBFA;\n",
              "      --hover-fill-color: #174EA6;\n",
              "      --disabled-fill-color: #AAA;\n",
              "      --disabled-bg-color: #DDD;\n",
              "  }\n",
              "\n",
              "  [theme=dark] .colab-df-quickchart {\n",
              "      --bg-color: #3B4455;\n",
              "      --fill-color: #D2E3FC;\n",
              "      --hover-bg-color: #434B5C;\n",
              "      --hover-fill-color: #FFFFFF;\n",
              "      --disabled-bg-color: #3B4455;\n",
              "      --disabled-fill-color: #666;\n",
              "  }\n",
              "\n",
              "  .colab-df-quickchart {\n",
              "    background-color: var(--bg-color);\n",
              "    border: none;\n",
              "    border-radius: 50%;\n",
              "    cursor: pointer;\n",
              "    display: none;\n",
              "    fill: var(--fill-color);\n",
              "    height: 32px;\n",
              "    padding: 0;\n",
              "    width: 32px;\n",
              "  }\n",
              "\n",
              "  .colab-df-quickchart:hover {\n",
              "    background-color: var(--hover-bg-color);\n",
              "    box-shadow: 0 1px 2px rgba(60, 64, 67, 0.3), 0 1px 3px 1px rgba(60, 64, 67, 0.15);\n",
              "    fill: var(--button-hover-fill-color);\n",
              "  }\n",
              "\n",
              "  .colab-df-quickchart-complete:disabled,\n",
              "  .colab-df-quickchart-complete:disabled:hover {\n",
              "    background-color: var(--disabled-bg-color);\n",
              "    fill: var(--disabled-fill-color);\n",
              "    box-shadow: none;\n",
              "  }\n",
              "\n",
              "  .colab-df-spinner {\n",
              "    border: 2px solid var(--fill-color);\n",
              "    border-color: transparent;\n",
              "    border-bottom-color: var(--fill-color);\n",
              "    animation:\n",
              "      spin 1s steps(1) infinite;\n",
              "  }\n",
              "\n",
              "  @keyframes spin {\n",
              "    0% {\n",
              "      border-color: transparent;\n",
              "      border-bottom-color: var(--fill-color);\n",
              "      border-left-color: var(--fill-color);\n",
              "    }\n",
              "    20% {\n",
              "      border-color: transparent;\n",
              "      border-left-color: var(--fill-color);\n",
              "      border-top-color: var(--fill-color);\n",
              "    }\n",
              "    30% {\n",
              "      border-color: transparent;\n",
              "      border-left-color: var(--fill-color);\n",
              "      border-top-color: var(--fill-color);\n",
              "      border-right-color: var(--fill-color);\n",
              "    }\n",
              "    40% {\n",
              "      border-color: transparent;\n",
              "      border-right-color: var(--fill-color);\n",
              "      border-top-color: var(--fill-color);\n",
              "    }\n",
              "    60% {\n",
              "      border-color: transparent;\n",
              "      border-right-color: var(--fill-color);\n",
              "    }\n",
              "    80% {\n",
              "      border-color: transparent;\n",
              "      border-right-color: var(--fill-color);\n",
              "      border-bottom-color: var(--fill-color);\n",
              "    }\n",
              "    90% {\n",
              "      border-color: transparent;\n",
              "      border-bottom-color: var(--fill-color);\n",
              "    }\n",
              "  }\n",
              "</style>\n",
              "\n",
              "  <script>\n",
              "    async function quickchart(key) {\n",
              "      const quickchartButtonEl =\n",
              "        document.querySelector('#' + key + ' button');\n",
              "      quickchartButtonEl.disabled = true;  // To prevent multiple clicks.\n",
              "      quickchartButtonEl.classList.add('colab-df-spinner');\n",
              "      try {\n",
              "        const charts = await google.colab.kernel.invokeFunction(\n",
              "            'suggestCharts', [key], {});\n",
              "      } catch (error) {\n",
              "        console.error('Error during call to suggestCharts:', error);\n",
              "      }\n",
              "      quickchartButtonEl.classList.remove('colab-df-spinner');\n",
              "      quickchartButtonEl.classList.add('colab-df-quickchart-complete');\n",
              "    }\n",
              "    (() => {\n",
              "      let quickchartButtonEl =\n",
              "        document.querySelector('#df-decd981f-8965-409c-ab5d-b43157632743 button');\n",
              "      quickchartButtonEl.style.display =\n",
              "        google.colab.kernel.accessAllowed ? 'block' : 'none';\n",
              "    })();\n",
              "  </script>\n",
              "</div>\n",
              "\n",
              "    </div>\n",
              "  </div>\n"
            ]
          },
          "metadata": {},
          "execution_count": 6
        }
      ],
      "source": [
        "train_df.sample(5)"
      ]
    },
    {
      "cell_type": "code",
      "execution_count": null,
      "id": "f3122fda",
      "metadata": {
        "execution": {
          "iopub.execute_input": "2022-04-07T12:01:11.969423Z",
          "iopub.status.busy": "2022-04-07T12:01:11.953929Z",
          "iopub.status.idle": "2022-04-07T12:01:11.973712Z",
          "shell.execute_reply": "2022-04-07T12:01:11.974103Z",
          "shell.execute_reply.started": "2022-04-07T10:56:02.633801Z"
        },
        "papermill": {
          "duration": 0.055147,
          "end_time": "2022-04-07T12:01:11.974218",
          "exception": false,
          "start_time": "2022-04-07T12:01:11.919071",
          "status": "completed"
        },
        "tags": [],
        "colab": {
          "base_uri": "https://localhost:8080/"
        },
        "id": "f3122fda",
        "outputId": "117bcd25-b76b-4664-a8db-9989b6aaf337"
      },
      "outputs": [
        {
          "output_type": "stream",
          "name": "stdout",
          "text": [
            "<class 'pandas.core.frame.DataFrame'>\n",
            "RangeIndex: 6234 entries, 0 to 6233\n",
            "Data columns (total 3 columns):\n",
            " #   Column    Non-Null Count  Dtype  \n",
            "---  ------    --------------  -----  \n",
            " 0   Emotion   6234 non-null   object \n",
            " 1   Sentence  6234 non-null   object \n",
            " 2   kfold     6234 non-null   float64\n",
            "dtypes: float64(1), object(2)\n",
            "memory usage: 146.2+ KB\n",
            "<class 'pandas.core.frame.DataFrame'>\n",
            "RangeIndex: 693 entries, 0 to 692\n",
            "Data columns (total 2 columns):\n",
            " #   Column    Non-Null Count  Dtype \n",
            "---  ------    --------------  ----- \n",
            " 0   Emotion   693 non-null    object\n",
            " 1   Sentence  693 non-null    object\n",
            "dtypes: object(2)\n",
            "memory usage: 11.0+ KB\n"
          ]
        },
        {
          "output_type": "execute_result",
          "data": {
            "text/plain": [
              "(None, None)"
            ]
          },
          "metadata": {},
          "execution_count": 7
        }
      ],
      "source": [
        "train_df.info(), test_df.info()"
      ]
    },
    {
      "cell_type": "markdown",
      "id": "727ae6b6",
      "metadata": {
        "papermill": {
          "duration": 0.030657,
          "end_time": "2022-04-07T12:01:12.035492",
          "exception": false,
          "start_time": "2022-04-07T12:01:12.004835",
          "status": "completed"
        },
        "tags": [],
        "id": "727ae6b6"
      },
      "source": [
        "**=> No Missing Values**"
      ]
    },
    {
      "cell_type": "code",
      "execution_count": null,
      "id": "2ecac534",
      "metadata": {
        "execution": {
          "iopub.execute_input": "2022-04-07T12:01:12.107641Z",
          "iopub.status.busy": "2022-04-07T12:01:12.107070Z",
          "iopub.status.idle": "2022-04-07T12:01:12.335920Z",
          "shell.execute_reply": "2022-04-07T12:01:12.336366Z",
          "shell.execute_reply.started": "2022-04-07T10:56:02.662875Z"
        },
        "papermill": {
          "duration": 0.269834,
          "end_time": "2022-04-07T12:01:12.336513",
          "exception": false,
          "start_time": "2022-04-07T12:01:12.066679",
          "status": "completed"
        },
        "tags": [],
        "colab": {
          "base_uri": "https://localhost:8080/",
          "height": 466
        },
        "id": "2ecac534",
        "outputId": "8c583eaa-3573-4188-86ee-2dfb1a7e2640"
      },
      "outputs": [
        {
          "output_type": "execute_result",
          "data": {
            "text/plain": [
              "<Axes: xlabel='Emotion', ylabel='count'>"
            ]
          },
          "metadata": {},
          "execution_count": 8
        },
        {
          "output_type": "display_data",
          "data": {
            "text/plain": [
              "<Figure size 640x480 with 1 Axes>"
            ],
            "image/png": "[encoded data removed]"
          },
          "metadata": {}
        }
      ],
      "source": [
        "sns.countplot(x='Emotion', data=train_df)"
      ]
    },
    {
      "cell_type": "markdown",
      "id": "b3625720",
      "metadata": {
        "papermill": {
          "duration": 0.034717,
          "end_time": "2022-04-07T12:01:12.407850",
          "exception": false,
          "start_time": "2022-04-07T12:01:12.373133",
          "status": "completed"
        },
        "tags": [],
        "id": "b3625720"
      },
      "source": [
        "**=> Imbalanced labels! But We still want to classify 7 classes**"
      ]
    },
    {
      "cell_type": "markdown",
      "id": "a8463a59",
      "metadata": {
        "papermill": {
          "duration": 0.031775,
          "end_time": "2022-04-07T12:01:12.471332",
          "exception": false,
          "start_time": "2022-04-07T12:01:12.439557",
          "status": "completed"
        },
        "tags": [],
        "id": "a8463a59"
      },
      "source": [
        "### DataLoader"
      ]
    },
    {
      "cell_type": "code",
      "execution_count": null,
      "id": "e831b7a0",
      "metadata": {
        "execution": {
          "iopub.execute_input": "2022-04-07T12:01:12.540248Z",
          "iopub.status.busy": "2022-04-07T12:01:12.539403Z",
          "iopub.status.idle": "2022-04-07T12:01:18.052124Z",
          "shell.execute_reply": "2022-04-07T12:01:18.051415Z",
          "shell.execute_reply.started": "2022-04-07T10:56:02.904502Z"
        },
        "papermill": {
          "duration": 5.549308,
          "end_time": "2022-04-07T12:01:18.052266",
          "exception": false,
          "start_time": "2022-04-07T12:01:12.502958",
          "status": "completed"
        },
        "tags": [],
        "colab": {
          "base_uri": "https://localhost:8080/",
          "height": 145,
          "referenced_widgets": [
            "70e3aa89ccbe4331ae3cef56d67b39a3",
            "779fc2f0d2974bba87ff1ab32d1ff41b",
            "509195af5ab64ba4abed515b009612ae",
            "d03a358852da48b8a3ebe3d849cb0f04",
            "e9f050a61da448299ab28ee819817d48",
            "3fe6ff70ceb04c7a9e492ad39d9a516c",
            "d55f57eda77048289e7f34625d76c874",
            "13f198f9f57945b2844caea83c1a8cdb",
            "c9e93ffa99d34b54b72aa1741c297b72",
            "62c075f5edb04bed938a4dc9f0a021ed",
            "bac61fc7b0164fd8beb4fa0d6d5ad6a6",
            "4854ce01ed124b0e8e9f9778ad7b0c85",
            "0d0745d8594d40fbab7be99a18356df2",
            "778085027f1b45ac80e6e3df19837eaf",
            "ec69cc839906417ba13ba0bd917c476a",
            "b9e64550cc1746bc9db20d03b4712bf7",
            "7210ee2209414d649a39caffcaa53a35",
            "0bdf111ff4384d1cac926131262dffee",
            "479ee8da365d41ecb8488f7b7db3273d",
            "f9f7d4947f9649748b08dd9c0d2816ca",
            "f109a7c09d9340c0a2227c390e683e5f",
            "9023b0fcba1f4a619ef9201e12479809",
            "2bcdd46f74e043cdb9cb1c1c4d90d23f",
            "eb54b6c4ca974205b4890c0b94e31221",
            "64f2a028e18d42eeb61225b6af095727",
            "1244690afbd44f22abdd8e7dc5a9e02a",
            "758908bd13d04b30a55e1bc518478ad6",
            "d7c2dfb4e941498f9ef6e174a10ab6dc",
            "ee37c86bfa2846539c40d2e45512d348",
            "8136ce46bddb4cbc95b8bb0c16c5b992",
            "18692d0034eb444c851d379eb534ca7c",
            "f8e941f55141435c805da216fa50b5ec",
            "0ec415013688417bb911e5ed808db648",
            "6bb5e788419f44faac4caa85cfdbd3c8",
            "b4254594c1ac4524880f39f1222de935",
            "b57656f16b92467d9219bddccf8da215",
            "910e8e7208564fa18624c57cf5b2eb2a",
            "95095512921b424d9e493159d500200d",
            "da7bbc5e011b4a7f870d8fe0bb4a0a24",
            "c6b1ab1f288341e5b47f0020189e4987",
            "2272bd9abbbd44ef9fa1fd8ecac9ac97",
            "0021b5ed5554470797500b4837ac1ce0",
            "4ec224cd74a844c480cdd919780a8dbc",
            "e0cb2992bff74181aff7f9020646bfe4"
          ]
        },
        "id": "e831b7a0",
        "outputId": "847f61a5-dddb-4c03-af49-6bb9ba89eaef"
      },
      "outputs": [
        {
          "output_type": "display_data",
          "data": {
            "text/plain": [
              "config.json:   0%|          | 0.00/557 [00:00<?, ?B/s]"
            ],
            "application/vnd.jupyter.widget-view+json": {
              "version_major": 2,
              "version_minor": 0,
              "model_id": "70e3aa89ccbe4331ae3cef56d67b39a3"
            }
          },
          "metadata": {}
        },
        {
          "output_type": "display_data",
          "data": {
            "text/plain": [
              "vocab.txt:   0%|          | 0.00/895k [00:00<?, ?B/s]"
            ],
            "application/vnd.jupyter.widget-view+json": {
              "version_major": 2,
              "version_minor": 0,
              "model_id": "4854ce01ed124b0e8e9f9778ad7b0c85"
            }
          },
          "metadata": {}
        },
        {
          "output_type": "display_data",
          "data": {
            "text/plain": [
              "bpe.codes:   0%|          | 0.00/1.14M [00:00<?, ?B/s]"
            ],
            "application/vnd.jupyter.widget-view+json": {
              "version_major": 2,
              "version_minor": 0,
              "model_id": "2bcdd46f74e043cdb9cb1c1c4d90d23f"
            }
          },
          "metadata": {}
        },
        {
          "output_type": "display_data",
          "data": {
            "text/plain": [
              "tokenizer.json:   0%|          | 0.00/3.13M [00:00<?, ?B/s]"
            ],
            "application/vnd.jupyter.widget-view+json": {
              "version_major": 2,
              "version_minor": 0,
              "model_id": "6bb5e788419f44faac4caa85cfdbd3c8"
            }
          },
          "metadata": {}
        }
      ],
      "source": [
        "tokenizer = AutoTokenizer.from_pretrained(\"vinai/phobert-base\", use_fast=False)"
      ]
    },
    {
      "cell_type": "code",
      "execution_count": null,
      "id": "300b9d26",
      "metadata": {
        "execution": {
          "iopub.execute_input": "2022-04-07T12:01:18.131913Z",
          "iopub.status.busy": "2022-04-07T12:01:18.122142Z",
          "iopub.status.idle": "2022-04-07T12:01:18.133802Z",
          "shell.execute_reply": "2022-04-07T12:01:18.134196Z",
          "shell.execute_reply.started": "2022-04-07T10:56:08.615269Z"
        },
        "papermill": {
          "duration": 0.048365,
          "end_time": "2022-04-07T12:01:18.134353",
          "exception": false,
          "start_time": "2022-04-07T12:01:18.085988",
          "status": "completed"
        },
        "tags": [],
        "id": "300b9d26"
      },
      "outputs": [],
      "source": [
        "class SentimentDataset(Dataset):\n",
        "    def __init__(self, df, tokenizer, max_len=120):\n",
        "        self.df = df\n",
        "        self.max_len = max_len\n",
        "        self.tokenizer = tokenizer\n",
        "\n",
        "    def __len__(self):\n",
        "        return len(self.df)\n",
        "\n",
        "    def __getitem__(self, index):\n",
        "        \"\"\"\n",
        "        To customize dataset, inherit from Dataset class and implement\n",
        "        __len__ & __getitem__\n",
        "        __getitem__ should return\n",
        "            data:\n",
        "                input_ids\n",
        "                attention_masks\n",
        "                text\n",
        "                targets\n",
        "        \"\"\"\n",
        "        row = self.df.iloc[index]\n",
        "        text, label = self.get_input_data(row)\n",
        "\n",
        "        # Encode_plus will:\n",
        "        # (1) split text into token\n",
        "        # (2) Add the '[CLS]' and '[SEP]' token to the start and end\n",
        "        # (3) Truncate/Pad sentence to max length\n",
        "        # (4) Map token to their IDS\n",
        "        # (5) Create attention mask\n",
        "        # (6) Return a dictionary of outputs\n",
        "        encoding = self.tokenizer.encode_plus(\n",
        "            text,\n",
        "            truncation=True,\n",
        "            add_special_tokens=True,\n",
        "            max_length=self.max_len,\n",
        "            padding='max_length',\n",
        "            return_attention_mask=True,\n",
        "            return_token_type_ids=False,\n",
        "            return_tensors='pt',\n",
        "        )\n",
        "\n",
        "        return {\n",
        "            'text': text,\n",
        "            'input_ids': encoding['input_ids'].flatten(),\n",
        "            'attention_masks': encoding['attention_mask'].flatten(),\n",
        "            'targets': torch.tensor(label, dtype=torch.long),\n",
        "        }\n",
        "\n",
        "\n",
        "    def labelencoder(self,text):\n",
        "        if text=='Enjoyment':\n",
        "            return 0\n",
        "        elif text=='Disgust':\n",
        "            return 1\n",
        "        elif text=='Sadness':\n",
        "            return 2\n",
        "        elif text=='Anger':\n",
        "            return 3\n",
        "        elif text=='Surprise':\n",
        "            return 4\n",
        "        elif text=='Fear':\n",
        "            return 5\n",
        "        else:\n",
        "            return 6\n",
        "\n",
        "    def get_input_data(self, row):\n",
        "        # Preprocessing: {remove icon, special character, lower}\n",
        "        text = row['Sentence']\n",
        "        text = ' '.join(simple_preprocess(text))\n",
        "        label = self.labelencoder(row['Emotion'])\n",
        "\n",
        "        return text, label"
      ]
    },
    {
      "cell_type": "markdown",
      "id": "2d42a252",
      "metadata": {
        "papermill": {
          "duration": 0.032658,
          "end_time": "2022-04-07T12:01:18.201336",
          "exception": false,
          "start_time": "2022-04-07T12:01:18.168678",
          "status": "completed"
        },
        "tags": [],
        "id": "2d42a252"
      },
      "source": [
        "**BERT works with fixed-length sequences. We’ll use a simple strategy to choose the max length.**"
      ]
    },
    {
      "cell_type": "code",
      "execution_count": null,
      "id": "83ee706e",
      "metadata": {
        "execution": {
          "iopub.execute_input": "2022-04-07T12:01:18.300766Z",
          "iopub.status.busy": "2022-04-07T12:01:18.290352Z",
          "iopub.status.idle": "2022-04-07T12:01:20.046608Z",
          "shell.execute_reply": "2022-04-07T12:01:20.046102Z",
          "shell.execute_reply.started": "2022-04-07T10:56:08.630459Z"
        },
        "papermill": {
          "duration": 1.812072,
          "end_time": "2022-04-07T12:01:20.046732",
          "exception": false,
          "start_time": "2022-04-07T12:01:18.234660",
          "status": "completed"
        },
        "tags": [],
        "colab": {
          "base_uri": "https://localhost:8080/",
          "height": 543
        },
        "id": "83ee706e",
        "outputId": "9fe3b50d-1a8d-4f37-d15b-67f5ff937249"
      },
      "outputs": [
        {
          "output_type": "execute_result",
          "data": {
            "text/plain": [
              "Text(0.5, 9.444444444444438, 'Token Count')"
            ]
          },
          "metadata": {},
          "execution_count": 11
        },
        {
          "output_type": "display_data",
          "data": {
            "text/plain": [
              "<Figure size 500x500 with 1 Axes>"
            ],
            "image/png": "[encoded data removed]"
          },
          "metadata": {}
        }
      ],
      "source": [
        "# Distribution of length of Sentence\n",
        "all_data = train_df.Sentence.tolist() + test_df.Sentence.tolist()\n",
        "all_data = [' '.join(simple_preprocess(text)) for text in all_data]\n",
        "encoded_text = [tokenizer.encode(text, add_special_tokens=True) for text in all_data]\n",
        "token_lens = [len(text) for text in encoded_text]\n",
        "sns.displot(token_lens)\n",
        "plt.xlim([0,max(token_lens)])\n",
        "plt.xlabel('Token Count')"
      ]
    },
    {
      "cell_type": "markdown",
      "id": "0adbe0ca",
      "metadata": {
        "papermill": {
          "duration": 0.033905,
          "end_time": "2022-04-07T12:01:20.116858",
          "exception": false,
          "start_time": "2022-04-07T12:01:20.082953",
          "status": "completed"
        },
        "tags": [],
        "id": "0adbe0ca"
      },
      "source": [
        "**=> Choose a maximum of length of 50 is safe.**"
      ]
    },
    {
      "cell_type": "markdown",
      "id": "13def394",
      "metadata": {
        "papermill": {
          "duration": 0.036438,
          "end_time": "2022-04-07T12:01:20.188013",
          "exception": false,
          "start_time": "2022-04-07T12:01:20.151575",
          "status": "completed"
        },
        "tags": [],
        "id": "13def394"
      },
      "source": [
        "### Model"
      ]
    },
    {
      "cell_type": "code",
      "execution_count": null,
      "id": "fad2b4ec",
      "metadata": {
        "execution": {
          "iopub.execute_input": "2022-04-07T12:01:20.268217Z",
          "iopub.status.busy": "2022-04-07T12:01:20.267496Z",
          "iopub.status.idle": "2022-04-07T12:01:20.269740Z",
          "shell.execute_reply": "2022-04-07T12:01:20.270135Z",
          "shell.execute_reply.started": "2022-04-07T10:56:10.533354Z"
        },
        "papermill": {
          "duration": 0.046448,
          "end_time": "2022-04-07T12:01:20.270259",
          "exception": false,
          "start_time": "2022-04-07T12:01:20.223811",
          "status": "completed"
        },
        "tags": [],
        "id": "fad2b4ec"
      },
      "outputs": [],
      "source": [
        "class SentimentClassifier(nn.Module):\n",
        "    def __init__(self, n_classes):\n",
        "        super(SentimentClassifier, self).__init__()\n",
        "        self.bert = AutoModel.from_pretrained(\"vinai/phobert-base\")\n",
        "        self.drop = nn.Dropout(p=0.3)\n",
        "        self.fc = nn.Linear(self.bert.config.hidden_size, n_classes)\n",
        "        nn.init.normal_(self.fc.weight, std=0.02)\n",
        "        nn.init.normal_(self.fc.bias, 0)\n",
        "\n",
        "    def forward(self, input_ids, attention_mask):\n",
        "        last_hidden_state, output = self.bert(\n",
        "            input_ids=input_ids,\n",
        "            attention_mask=attention_mask,\n",
        "            return_dict=False # Dropout will errors if without this\n",
        "        )\n",
        "\n",
        "        x = self.drop(output)\n",
        "        x = self.fc(x)\n",
        "        return x"
      ]
    },
    {
      "cell_type": "markdown",
      "id": "fe356378",
      "metadata": {
        "papermill": {
          "duration": 0.035479,
          "end_time": "2022-04-07T12:01:20.341347",
          "exception": false,
          "start_time": "2022-04-07T12:01:20.305868",
          "status": "completed"
        },
        "tags": [],
        "id": "fe356378"
      },
      "source": [
        "### Train & Eval Function"
      ]
    },
    {
      "cell_type": "code",
      "execution_count": null,
      "id": "f1b2e3bd",
      "metadata": {
        "execution": {
          "iopub.execute_input": "2022-04-07T12:01:20.428322Z",
          "iopub.status.busy": "2022-04-07T12:01:20.427388Z",
          "iopub.status.idle": "2022-04-07T12:01:20.429180Z",
          "shell.execute_reply": "2022-04-07T12:01:20.429691Z",
          "shell.execute_reply.started": "2022-04-07T10:56:10.547003Z"
        },
        "papermill": {
          "duration": 0.051507,
          "end_time": "2022-04-07T12:01:20.429838",
          "exception": false,
          "start_time": "2022-04-07T12:01:20.378331",
          "status": "completed"
        },
        "tags": [],
        "id": "f1b2e3bd"
      },
      "outputs": [],
      "source": [
        "def train(model, criterion, optimizer, train_loader):\n",
        "    model.train()\n",
        "    losses = []\n",
        "    correct = 0\n",
        "\n",
        "    for data in train_loader:\n",
        "        input_ids = data['input_ids'].to(device)\n",
        "        attention_mask = data['attention_masks'].to(device)\n",
        "        targets = data['targets'].to(device)\n",
        "\n",
        "        optimizer.zero_grad()\n",
        "        outputs = model(\n",
        "            input_ids=input_ids,\n",
        "            attention_mask=attention_mask\n",
        "        )\n",
        "\n",
        "        loss = criterion(outputs, targets)\n",
        "        _, pred = torch.max(outputs, dim=1)\n",
        "\n",
        "        correct += torch.sum(pred == targets)\n",
        "        losses.append(loss.item())\n",
        "        loss.backward()\n",
        "        nn.utils.clip_grad_norm_(model.parameters(), max_norm=1.0)\n",
        "        optimizer.step()\n",
        "        lr_scheduler.step()\n",
        "\n",
        "    print(f'Train Accuracy: {correct.double()/len(train_loader.dataset)} Loss: {np.mean(losses)}')\n",
        "\n",
        "def eval(test_data = False):\n",
        "    model.eval()\n",
        "    losses = []\n",
        "    correct = 0\n",
        "\n",
        "    with torch.no_grad():\n",
        "        data_loader = test_loader if test_data else valid_loader\n",
        "        for data in data_loader:\n",
        "            input_ids = data['input_ids'].to(device)\n",
        "            attention_mask = data['attention_masks'].to(device)\n",
        "            targets = data['targets'].to(device)\n",
        "\n",
        "            outputs = model(\n",
        "                input_ids=input_ids,\n",
        "                attention_mask=attention_mask\n",
        "            )\n",
        "\n",
        "            _, pred = torch.max(outputs, dim=1)\n",
        "\n",
        "            loss = criterion(outputs, targets)\n",
        "            correct += torch.sum(pred == targets)\n",
        "            losses.append(loss.item())\n",
        "\n",
        "    if test_data:\n",
        "        print(f'Test Accuracy: {correct.double()/len(test_loader.dataset)} Loss: {np.mean(losses)}')\n",
        "        return correct.double()/len(test_loader.dataset)\n",
        "    else:\n",
        "        print(f'Valid Accuracy: {correct.double()/len(valid_loader.dataset)} Loss: {np.mean(losses)}')\n",
        "        return correct.double()/len(valid_loader.dataset)\n"
      ]
    },
    {
      "cell_type": "markdown",
      "id": "0bb8304d",
      "metadata": {
        "papermill": {
          "duration": 0.035849,
          "end_time": "2022-04-07T12:01:20.501513",
          "exception": false,
          "start_time": "2022-04-07T12:01:20.465664",
          "status": "completed"
        },
        "tags": [],
        "id": "0bb8304d"
      },
      "source": [
        "### Training with K-Fold"
      ]
    },
    {
      "cell_type": "code",
      "execution_count": null,
      "id": "8fcaf329",
      "metadata": {
        "execution": {
          "iopub.execute_input": "2022-04-07T12:01:20.580858Z",
          "iopub.status.busy": "2022-04-07T12:01:20.580067Z",
          "iopub.status.idle": "2022-04-07T12:01:20.581954Z",
          "shell.execute_reply": "2022-04-07T12:01:20.582329Z",
          "shell.execute_reply.started": "2022-04-07T10:56:10.567263Z"
        },
        "papermill": {
          "duration": 0.044677,
          "end_time": "2022-04-07T12:01:20.582467",
          "exception": false,
          "start_time": "2022-04-07T12:01:20.537790",
          "status": "completed"
        },
        "tags": [],
        "id": "8fcaf329"
      },
      "outputs": [],
      "source": [
        "def prepare_loaders(df, fold):\n",
        "    df_train = df[df.kfold != fold].reset_index(drop=True)\n",
        "    df_valid = df[df.kfold == fold].reset_index(drop=True)\n",
        "\n",
        "    train_dataset = SentimentDataset(df_train, tokenizer, max_len=120)\n",
        "    valid_dataset = SentimentDataset(df_valid, tokenizer, max_len=120)\n",
        "\n",
        "    train_loader = DataLoader(train_dataset, batch_size=16, shuffle=True, num_workers=2)\n",
        "    valid_loader = DataLoader(valid_dataset, batch_size=16, shuffle=True, num_workers=2)\n",
        "\n",
        "    return train_loader, valid_loader"
      ]
    },
    {
      "cell_type": "code",
      "execution_count": null,
      "id": "d5c5e6f3",
      "metadata": {
        "execution": {
          "iopub.execute_input": "2022-04-07T12:01:20.666475Z",
          "iopub.status.busy": "2022-04-07T12:01:20.661609Z",
          "iopub.status.idle": "2022-04-07T12:38:32.819668Z",
          "shell.execute_reply": "2022-04-07T12:38:32.821064Z",
          "shell.execute_reply.started": "2022-04-07T10:56:10.579687Z"
        },
        "papermill": {
          "duration": 2232.202695,
          "end_time": "2022-04-07T12:38:32.821344",
          "exception": false,
          "start_time": "2022-04-07T12:01:20.618649",
          "status": "completed"
        },
        "tags": [],
        "colab": {
          "base_uri": "https://localhost:8080/",
          "height": 1000,
          "referenced_widgets": [
            "8429082934b8411fa85c5b2d98dda0ce",
            "b9f4da3fb3194984b0d9ce04c50e5f8b",
            "8bf94ef35e074245b92a6d375c7adbe7",
            "08f65d04808946518604f4434c84ce9c",
            "0aa2502b5a774ddfa34d7716154aceac",
            "369909379c424d3389aa13158b5ee884",
            "cd4b9b26419743f390b8868102beca4e",
            "7ee56853ac1c443ca805bb68dd5a04e2",
            "45f5098a13b34f30ac15b16910be9f1a",
            "74d4e09055cf4755b9f32357366a42f6",
            "af5387432ef04bb1ae879c3b2d0d60b1"
          ]
        },
        "id": "d5c5e6f3",
        "outputId": "3db98d80-7072-4a7f-e196-dec10191304c"
      },
      "outputs": [
        {
          "output_type": "stream",
          "name": "stdout",
          "text": [
            "-----------Fold: 1 ------------------\n"
          ]
        },
        {
          "output_type": "display_data",
          "data": {
            "text/plain": [
              "pytorch_model.bin:   0%|          | 0.00/543M [00:00<?, ?B/s]"
            ],
            "application/vnd.jupyter.widget-view+json": {
              "version_major": 2,
              "version_minor": 0,
              "model_id": "8429082934b8411fa85c5b2d98dda0ce"
            }
          },
          "metadata": {}
        },
        {
          "output_type": "stream",
          "name": "stdout",
          "text": [
            "Epoch 1/6\n",
            "------------------------------\n",
            "Train Accuracy: 0.37497493483055944 Loss: 1.6397055857456648\n",
            "Valid Accuracy: 0.5156375300721732 Loss: 1.322307248910268\n",
            "Epoch 2/6\n",
            "------------------------------\n",
            "Train Accuracy: 0.5807098455985562 Loss: 1.2252960548951075\n",
            "Valid Accuracy: 0.5838011226944667 Loss: 1.1524811555177739\n",
            "Epoch 3/6\n",
            "------------------------------\n",
            "Train Accuracy: 0.6641267294966914 Loss: 0.9848181100992056\n",
            "Valid Accuracy: 0.595028067361668 Loss: 1.1758494614026485\n",
            "Epoch 4/6\n",
            "------------------------------\n",
            "Train Accuracy: 0.7282935632644877 Loss: 0.8005343548571452\n",
            "Valid Accuracy: 0.6263031275060145 Loss: 1.108930990099907\n",
            "Epoch 5/6\n",
            "------------------------------\n",
            "Train Accuracy: 0.7832364146781632 Loss: 0.6661875347773998\n",
            "Valid Accuracy: 0.6174819566960705 Loss: 1.150825933004037\n",
            "Epoch 6/6\n",
            "------------------------------\n",
            "Train Accuracy: 0.8205333868056948 Loss: 0.5759094641185724\n",
            "Valid Accuracy: 0.6255012028869287 Loss: 1.1588847316228426\n",
            "-----------Fold: 2 ------------------\n",
            "Epoch 1/6\n",
            "------------------------------\n",
            "Train Accuracy: 0.3647483456988169 Loss: 1.6553167704588327\n",
            "Valid Accuracy: 0.48195669607056935 Loss: 1.4121963733281844\n",
            "Epoch 2/6\n",
            "------------------------------\n",
            "Train Accuracy: 0.5361941046721476 Loss: 1.2805826352574887\n",
            "Valid Accuracy: 0.5765838011226945 Loss: 1.1897544272435017\n",
            "Epoch 3/6\n",
            "------------------------------\n",
            "Train Accuracy: 0.643473029877682 Loss: 1.0221696400489562\n",
            "Valid Accuracy: 0.5958299919807538 Loss: 1.131923680886244\n",
            "Epoch 4/6\n",
            "------------------------------\n",
            "Train Accuracy: 0.7076398636454783 Loss: 0.8565761623665308\n",
            "Valid Accuracy: 0.6022453889334403 Loss: 1.1317656483405676\n",
            "Epoch 5/6\n",
            "------------------------------\n",
            "Train Accuracy: 0.7700020052135552 Loss: 0.7063197782979562\n",
            "Valid Accuracy: 0.6110665597433841 Loss: 1.1442201030560029\n",
            "Epoch 6/6\n",
            "------------------------------\n",
            "Train Accuracy: 0.793061961098857 Loss: 0.6326934070063707\n",
            "Valid Accuracy: 0.6094627105052125 Loss: 1.1487604670035534\n",
            "-----------Fold: 3 ------------------\n",
            "Epoch 1/6\n",
            "------------------------------\n",
            "Train Accuracy: 0.33266492881491877 Loss: 1.7017639649984164\n",
            "Valid Accuracy: 0.4843624699278268 Loss: 1.4116296707055507\n",
            "Epoch 2/6\n",
            "------------------------------\n",
            "Train Accuracy: 0.5472227792259876 Loss: 1.3061545114868727\n",
            "Valid Accuracy: 0.5725741780272654 Loss: 1.2094031190260863\n",
            "Epoch 3/6\n",
            "------------------------------\n",
            "Train Accuracy: 0.6442751152997794 Loss: 1.0522206700765169\n",
            "Valid Accuracy: 0.5878107457898958 Loss: 1.1609084438054988\n",
            "Epoch 4/6\n",
            "------------------------------\n",
            "Train Accuracy: 0.7142570683777822 Loss: 0.8748206957123983\n",
            "Valid Accuracy: 0.599037690457097 Loss: 1.1728727290263543\n",
            "Epoch 5/6\n",
            "------------------------------\n",
            "Train Accuracy: 0.7639863645478243 Loss: 0.7441271802362723\n",
            "Valid Accuracy: 0.599037690457097 Loss: 1.1729796601411624\n",
            "Epoch 6/6\n",
            "------------------------------\n",
            "Train Accuracy: 0.7936635251654302 Loss: 0.6580407103189291\n",
            "Valid Accuracy: 0.5894145950280674 Loss: 1.1916939241763873\n",
            "-----------Fold: 4 ------------------\n",
            "Epoch 1/6\n",
            "------------------------------\n",
            "Train Accuracy: 0.40244636053739724 Loss: 1.5956948682283745\n",
            "Valid Accuracy: 0.5196471531676022 Loss: 1.3080406135473497\n",
            "Epoch 2/6\n",
            "------------------------------\n",
            "Train Accuracy: 0.5644676158010828 Loss: 1.2136955759846246\n",
            "Valid Accuracy: 0.5958299919807538 Loss: 1.1528042929294782\n",
            "Epoch 3/6\n",
            "------------------------------\n",
            "Train Accuracy: 0.670543412873471 Loss: 0.9576527609083897\n",
            "Valid Accuracy: 0.6142742582197274 Loss: 1.1132373267259352\n",
            "Epoch 4/6\n",
            "------------------------------\n",
            "Train Accuracy: 0.7387206737517545 Loss: 0.7830223249128232\n",
            "Valid Accuracy: 0.6134723336006416 Loss: 1.1389548014371822\n",
            "Epoch 5/6\n",
            "------------------------------\n",
            "Train Accuracy: 0.7988770804090636 Loss: 0.6419028252936326\n",
            "Valid Accuracy: 0.6054530874097834 Loss: 1.1764059639894044\n",
            "Epoch 6/6\n",
            "------------------------------\n",
            "Train Accuracy: 0.824543813916182 Loss: 0.5556826180754564\n",
            "Valid Accuracy: 0.6118684843624699 Loss: 1.1836968939273784\n",
            "-----------Fold: 5 ------------------\n",
            "Epoch 1/6\n",
            "------------------------------\n",
            "Train Accuracy: 0.36507618283881316 Loss: 1.6450942426155775\n",
            "Valid Accuracy: 0.49036918138041735 Loss: 1.4035174533342705\n",
            "Epoch 2/6\n",
            "------------------------------\n",
            "Train Accuracy: 0.5753809141940658 Loss: 1.2276646932348227\n",
            "Valid Accuracy: 0.57223113964687 Loss: 1.194856467919472\n",
            "Epoch 3/6\n",
            "------------------------------\n",
            "Train Accuracy: 0.6641940657578188 Loss: 0.9911162985058931\n",
            "Valid Accuracy: 0.5850722311396469 Loss: 1.182142191972488\n",
            "Epoch 4/6\n",
            "------------------------------\n",
            "Train Accuracy: 0.7319566960705693 Loss: 0.808662415888065\n",
            "Valid Accuracy: 0.5963081861958266 Loss: 1.2007410747882648\n",
            "Epoch 5/6\n",
            "------------------------------\n",
            "Train Accuracy: 0.7784683239775461 Loss: 0.6739695405539794\n",
            "Valid Accuracy: 0.5955056179775281 Loss: 1.2124697749431317\n",
            "Epoch 6/6\n",
            "------------------------------\n",
            "Train Accuracy: 0.8133520449077787 Loss: 0.590810406809816\n",
            "Valid Accuracy: 0.5995184590690209 Loss: 1.2366121269953556\n"
          ]
        }
      ],
      "source": [
        "for fold in range(skf.n_splits):\n",
        "    print(f'-----------Fold: {fold+1} ------------------')\n",
        "    train_loader, valid_loader = prepare_loaders(train_df, fold=fold)\n",
        "    model = SentimentClassifier(n_classes=7).to(device)\n",
        "    criterion = nn.CrossEntropyLoss()\n",
        "    # Recommendation by BERT: lr: 5e-5, 2e-5, 3e-5\n",
        "    # Batchsize: 16, 32\n",
        "    optimizer = AdamW(model.parameters(), lr=2e-5)\n",
        "\n",
        "    lr_scheduler = get_linear_schedule_with_warmup(\n",
        "                optimizer,\n",
        "                num_warmup_steps=0,\n",
        "                num_training_steps=len(train_loader)*EPOCHS\n",
        "            )\n",
        "    best_acc = 0\n",
        "    for epoch in range(EPOCHS):\n",
        "        print(f'Epoch {epoch+1}/{EPOCHS}')\n",
        "        print('-'*30)\n",
        "\n",
        "        train(model, criterion, optimizer, train_loader)\n",
        "        val_acc = eval()\n",
        "\n",
        "        if val_acc > best_acc:\n",
        "            torch.save(model.state_dict(), f'phobert_fold{fold+1}.pth')\n",
        "            best_acc = val_acc"
      ]
    },
    {
      "cell_type": "code",
      "execution_count": null,
      "id": "fe5f66d4",
      "metadata": {
        "execution": {
          "iopub.execute_input": "2022-04-07T12:38:32.983858Z",
          "iopub.status.busy": "2022-04-07T12:38:32.982250Z",
          "iopub.status.idle": "2022-04-07T12:38:32.984460Z",
          "shell.execute_reply": "2022-04-07T12:38:32.984863Z",
          "shell.execute_reply.started": "2022-04-07T11:00:18.217672Z"
        },
        "papermill": {
          "duration": 0.076259,
          "end_time": "2022-04-07T12:38:32.985012",
          "exception": false,
          "start_time": "2022-04-07T12:38:32.908753",
          "status": "completed"
        },
        "tags": [],
        "id": "fe5f66d4"
      },
      "outputs": [],
      "source": [
        "def test(data_loader):\n",
        "    models = []\n",
        "    for fold in range(skf.n_splits):\n",
        "        model = SentimentClassifier(n_classes=7)\n",
        "        model.to(device)\n",
        "        model.load_state_dict(torch.load(f'phobert_fold{fold+1}.pth'))\n",
        "        model.eval()\n",
        "        models.append(model)\n",
        "\n",
        "    texts = []\n",
        "    predicts = []\n",
        "    predict_probs = []\n",
        "    real_values = []\n",
        "\n",
        "    for data in data_loader:\n",
        "        text = data['text']\n",
        "        input_ids = data['input_ids'].to(device)\n",
        "        attention_mask = data['attention_masks'].to(device)\n",
        "        targets = data['targets'].to(device)\n",
        "\n",
        "        total_outs = []\n",
        "        for model in models:\n",
        "            with torch.no_grad():\n",
        "                outputs = model(\n",
        "                    input_ids=input_ids,\n",
        "                    attention_mask=attention_mask\n",
        "                )\n",
        "                total_outs.append(outputs)\n",
        "\n",
        "        total_outs = torch.stack(total_outs)\n",
        "        _, pred = torch.max(total_outs.mean(0), dim=1)\n",
        "        texts.extend(text)\n",
        "        predicts.extend(pred)\n",
        "        predict_probs.extend(total_outs.mean(0))\n",
        "        real_values.extend(targets)\n",
        "\n",
        "    predicts = torch.stack(predicts).cpu()\n",
        "    predict_probs = torch.stack(predict_probs).cpu()\n",
        "    real_values = torch.stack(real_values).cpu()\n",
        "    print(classification_report(real_values, predicts))\n",
        "    return real_values, predicts"
      ]
    },
    {
      "cell_type": "code",
      "execution_count": null,
      "id": "ca5e4bab",
      "metadata": {
        "execution": {
          "iopub.execute_input": "2022-04-07T12:38:33.124774Z",
          "iopub.status.busy": "2022-04-07T12:38:33.124215Z",
          "iopub.status.idle": "2022-04-07T12:38:56.508660Z",
          "shell.execute_reply": "2022-04-07T12:38:56.508188Z",
          "shell.execute_reply.started": "2022-04-07T11:00:18.242404Z"
        },
        "papermill": {
          "duration": 23.459106,
          "end_time": "2022-04-07T12:38:56.508792",
          "exception": false,
          "start_time": "2022-04-07T12:38:33.049686",
          "status": "completed"
        },
        "tags": [],
        "colab": {
          "base_uri": "https://localhost:8080/"
        },
        "id": "ca5e4bab",
        "outputId": "19ce554d-3dfd-4306-a72a-6c83ed3d2e68"
      },
      "outputs": [
        {
          "output_type": "stream",
          "name": "stdout",
          "text": [
            "              precision    recall  f1-score   support\n",
            "\n",
            "           0       0.67      0.70      0.68       193\n",
            "           1       0.63      0.65      0.64       132\n",
            "           2       0.61      0.68      0.64       116\n",
            "           3       0.44      0.40      0.42        40\n",
            "           4       0.73      0.22      0.33        37\n",
            "           5       0.68      0.70      0.69        46\n",
            "           6       0.54      0.55      0.55       129\n",
            "\n",
            "    accuracy                           0.62       693\n",
            "   macro avg       0.61      0.56      0.57       693\n",
            "weighted avg       0.62      0.62      0.61       693\n",
            "\n"
          ]
        }
      ],
      "source": [
        "test_dataset = SentimentDataset(test_df, tokenizer, max_len=50)\n",
        "test_loader = DataLoader(test_dataset, batch_size=16, shuffle=True, num_workers=2)\n",
        "real_values, predicts = test(test_loader)"
      ]
    },
    {
      "cell_type": "markdown",
      "id": "faf24c88",
      "metadata": {
        "papermill": {
          "duration": 0.06195,
          "end_time": "2022-04-07T12:38:56.633861",
          "exception": false,
          "start_time": "2022-04-07T12:38:56.571911",
          "status": "completed"
        },
        "tags": [],
        "id": "faf24c88"
      },
      "source": [
        "### Heatmap between Predict and Ground Truth"
      ]
    },
    {
      "cell_type": "code",
      "execution_count": null,
      "id": "fa198539",
      "metadata": {
        "execution": {
          "iopub.execute_input": "2022-04-07T12:38:56.765343Z",
          "iopub.status.busy": "2022-04-07T12:38:56.764703Z",
          "iopub.status.idle": "2022-04-07T12:38:57.079327Z",
          "shell.execute_reply": "2022-04-07T12:38:57.078909Z",
          "shell.execute_reply.started": "2022-04-07T11:00:26.4508Z"
        },
        "papermill": {
          "duration": 0.383416,
          "end_time": "2022-04-07T12:38:57.079454",
          "exception": false,
          "start_time": "2022-04-07T12:38:56.696038",
          "status": "completed"
        },
        "tags": [],
        "colab": {
          "base_uri": "https://localhost:8080/",
          "height": 507
        },
        "id": "fa198539",
        "outputId": "73feaa0e-8e7f-492d-fe92-f0bdced84b33"
      },
      "outputs": [
        {
          "output_type": "execute_result",
          "data": {
            "text/plain": [
              "<Axes: >"
            ]
          },
          "metadata": {},
          "execution_count": 18
        },
        {
          "output_type": "display_data",
          "data": {
            "text/plain": [
              "<Figure size 640x480 with 2 Axes>"
            ],
            "image/png": "[encoded data removed]"
          },
          "metadata": {}
        }
      ],
      "source": [
        "class_names = ['Enjoyment', 'Disgust', 'Sadness', 'Anger', 'Surprise', 'Fear', 'Other']\n",
        "sns.heatmap(confusion_matrix(real_values, predicts), annot=False, xticklabels = class_names, yticklabels = class_names)"
      ]
    },
    {
      "cell_type": "markdown",
      "id": "14521be9",
      "metadata": {
        "papermill": {
          "duration": 0.063017,
          "end_time": "2022-04-07T12:38:57.206656",
          "exception": false,
          "start_time": "2022-04-07T12:38:57.143639",
          "status": "completed"
        },
        "tags": [],
        "id": "14521be9"
      },
      "source": [
        "=> Label Fear is the most unrelated to others -> Highest F1-Score"
      ]
    },
    {
      "cell_type": "markdown",
      "id": "87dfafa9",
      "metadata": {
        "papermill": {
          "duration": 0.063129,
          "end_time": "2022-04-07T12:38:57.333864",
          "exception": false,
          "start_time": "2022-04-07T12:38:57.270735",
          "status": "completed"
        },
        "tags": [],
        "id": "87dfafa9"
      },
      "source": [
        "### Visualize Wrong Predicted Label"
      ]
    },
    {
      "cell_type": "code",
      "execution_count": null,
      "id": "d916e0d8",
      "metadata": {
        "execution": {
          "iopub.execute_input": "2022-04-07T12:38:57.467160Z",
          "iopub.status.busy": "2022-04-07T12:38:57.466543Z",
          "iopub.status.idle": "2022-04-07T12:38:57.557884Z",
          "shell.execute_reply": "2022-04-07T12:38:57.558298Z",
          "shell.execute_reply.started": "2022-04-07T11:00:26.784167Z"
        },
        "papermill": {
          "duration": 0.161354,
          "end_time": "2022-04-07T12:38:57.558461",
          "exception": false,
          "start_time": "2022-04-07T12:38:57.397107",
          "status": "completed"
        },
        "tags": [],
        "colab": {
          "base_uri": "https://localhost:8080/"
        },
        "id": "d916e0d8",
        "outputId": "084da3f4-8ee1-4260-b17c-cdbf63ef8f0a"
      },
      "outputs": [
        {
          "output_type": "stream",
          "name": "stdout",
          "text": [
            "--------------------------------------------------\n",
            "cho nghỉ viêc mói đúng sao goi là kỷ luật\n",
            "Predicted: (Enjoyment) --vs-- Real label: (Disgust)\n",
            "--------------------------------------------------\n",
            "bố không thích nộp đấy mày thích ý kiến không\n",
            "Predicted: (Anger) --vs-- Real label: (Disgust)\n",
            "--------------------------------------------------\n",
            "một hành động đẹp đầy tính nhân văn ☺️☺️\n",
            "Predicted: (Other) --vs-- Real label: (Enjoyment)\n",
            "--------------------------------------------------\n",
            "mấy ai được như vậy ??\n",
            "Predicted: (Other) --vs-- Real label: (Sadness)\n",
            "--------------------------------------------------\n",
            "sống 17 năm chưa crush ai bao giờ\n",
            "Predicted: (Disgust) --vs-- Real label: (Enjoyment)\n",
            "--------------------------------------------------\n",
            "ổng quay thiệt mà sao chửi ổng thế . không quay sao máy bạn xem được đó :))\n",
            "Predicted: (Anger) --vs-- Real label: (Fear)\n",
            "--------------------------------------------------\n",
            "nghe ngọt thế :((\n",
            "Predicted: (Enjoyment) --vs-- Real label: (Surprise)\n",
            "--------------------------------------------------\n",
            "mệt vãi .. mà cừời cũng vãi ??????\n",
            "Predicted: (Sadness) --vs-- Real label: (Enjoyment)\n",
            "--------------------------------------------------\n",
            "hậu duệ mặt trời đấy chứ đùa đâu nhá 😗😗\n",
            "Predicted: (Other) --vs-- Real label: (Disgust)\n",
            "--------------------------------------------------\n",
            "tôi ở phú yên và anh này nói rất chuẩn < 3\n",
            "Predicted: (Disgust) --vs-- Real label: (Sadness)\n",
            "--------------------------------------------------\n",
            "đứa nào bị táo bón thâm niên cứ ra cầu này mà nhảy đảm bảo hiệu quả ngay lần đầu trải nghiệm 🤣🤣🤣\n",
            "Predicted: (Other) --vs-- Real label: (Enjoyment)\n",
            "--------------------------------------------------\n",
            "trơi ơi sao lại cháy chứ\n",
            "Predicted: (Fear) --vs-- Real label: (Disgust)\n",
            "--------------------------------------------------\n",
            "per dạo này ít tung tăng hơn xưa nên hơi trầm cảm dồi chăng 😳\n",
            "Predicted: (Enjoyment) --vs-- Real label: (Sadness)\n",
            "--------------------------------------------------\n",
            "dume sao sao nó nói tiếng việt được vậy\n",
            "Predicted: (Fear) --vs-- Real label: (Anger)\n",
            "--------------------------------------------------\n",
            "nhưng tao đéo có crush\n",
            "Predicted: (Sadness) --vs-- Real label: (Enjoyment)\n"
          ]
        }
      ],
      "source": [
        "def check_wrong(real_values, predicts):\n",
        "    wrong_arr = []\n",
        "    wrong_label = []\n",
        "    for i in range(len(predicts)):\n",
        "        if predicts[i] != real_values[i]:\n",
        "            wrong_arr.append(i)\n",
        "            wrong_label.append(predicts[i])\n",
        "    return wrong_arr, wrong_label\n",
        "\n",
        "for i in range(15):\n",
        "    print('-'*50)\n",
        "    wrong_arr, wrong_label = check_wrong(real_values, predicts)\n",
        "    print(test_df.iloc[wrong_arr[i]].Sentence)\n",
        "    print(f'Predicted: ({class_names[wrong_label[i]]}) --vs-- Real label: ({class_names[real_values[wrong_arr[i]]]})')"
      ]
    },
    {
      "cell_type": "markdown",
      "id": "655aa9dd",
      "metadata": {
        "papermill": {
          "duration": 0.063315,
          "end_time": "2022-04-07T12:38:57.685527",
          "exception": false,
          "start_time": "2022-04-07T12:38:57.622212",
          "status": "completed"
        },
        "tags": [],
        "id": "655aa9dd"
      },
      "source": [
        "### Inference"
      ]
    },
    {
      "cell_type": "code",
      "execution_count": null,
      "id": "daae6130",
      "metadata": {
        "execution": {
          "iopub.execute_input": "2022-04-07T12:38:57.819455Z",
          "iopub.status.busy": "2022-04-07T12:38:57.818632Z",
          "iopub.status.idle": "2022-04-07T12:38:57.821121Z",
          "shell.execute_reply": "2022-04-07T12:38:57.820723Z",
          "shell.execute_reply.started": "2022-04-07T11:00:26.885194Z"
        },
        "papermill": {
          "duration": 0.072252,
          "end_time": "2022-04-07T12:38:57.821229",
          "exception": false,
          "start_time": "2022-04-07T12:38:57.748977",
          "status": "completed"
        },
        "tags": [],
        "id": "daae6130"
      },
      "outputs": [],
      "source": [
        "def infer(text, tokenizer, max_len=120):\n",
        "    encoded_review = tokenizer.encode_plus(\n",
        "        text,\n",
        "        max_length=max_len,\n",
        "        truncation=True,\n",
        "        add_special_tokens=True,\n",
        "        padding='max_length',\n",
        "        return_attention_mask=True,\n",
        "        return_token_type_ids=False,\n",
        "        return_tensors='pt',\n",
        "    )\n",
        "\n",
        "    input_ids = encoded_review['input_ids'].to(device)\n",
        "    attention_mask = encoded_review['attention_mask'].to(device)\n",
        "\n",
        "    output = model(input_ids, attention_mask)\n",
        "    _, y_pred = torch.max(output, dim=1)\n",
        "\n",
        "    print(f'Text: {text}')\n",
        "    print(f'Sentiment: {class_names[y_pred]}')"
      ]
    },
    {
      "cell_type": "code",
      "execution_count": null,
      "id": "2d7d0e55",
      "metadata": {
        "execution": {
          "iopub.execute_input": "2022-04-07T12:38:57.953307Z",
          "iopub.status.busy": "2022-04-07T12:38:57.952739Z",
          "iopub.status.idle": "2022-04-07T12:38:57.982125Z",
          "shell.execute_reply": "2022-04-07T12:38:57.981643Z",
          "shell.execute_reply.started": "2022-04-07T11:00:26.894152Z"
        },
        "papermill": {
          "duration": 0.097374,
          "end_time": "2022-04-07T12:38:57.982232",
          "exception": false,
          "start_time": "2022-04-07T12:38:57.884858",
          "status": "completed"
        },
        "tags": [],
        "colab": {
          "base_uri": "https://localhost:8080/"
        },
        "id": "2d7d0e55",
        "outputId": "13771e4a-72f0-4c58-84d8-7be1a422adb7"
      },
      "outputs": [
        {
          "output_type": "stream",
          "name": "stdout",
          "text": [
            "Text: Thật bất ngờ\n",
            "Sentiment: Surprise\n"
          ]
        }
      ],
      "source": [
        "infer('Thật bất ngờ', tokenizer)"
      ]
    },
    {
      "cell_type": "markdown",
      "id": "a1c2ef71",
      "metadata": {
        "papermill": {
          "duration": 0.064043,
          "end_time": "2022-04-07T12:38:58.239181",
          "exception": false,
          "start_time": "2022-04-07T12:38:58.175138",
          "status": "completed"
        },
        "tags": [],
        "id": "a1c2ef71"
      },
      "source": [
        "### References:\n",
        "\n",
        "* https://github.com/VinAIResearch/PhoBERT\n",
        "\n",
        "* https://curiousily.com/posts/sentiment-analysis-with-bert-and-hugging-face-using-pytorch-and-python/\n",
        "\n",
        "* http://nlp.uit.edu.vn/datasets/\n",
        "\n",
        "* https://www.kaggle.com/code/shoheiazuma/tweet-sentiment-roberta-pytorch/notebook#Model\n",
        "\n",
        "* https://skimai.com/fine-tuning-bert-for-sentiment-analysis/"
      ]
    }
  ],
  "metadata": {
    "kernelspec": {
      "display_name": "Python 3",
      "name": "python3"
    },
    "language_info": {
      "codemirror_mode": {
        "name": "ipython",
        "version": 3
      },
      "file_extension": ".py",
      "mimetype": "text/x-python",
      "name": "python",
      "nbconvert_exporter": "python",
      "pygments_lexer": "ipython3",
      "version": "3.7.12"
    },
    "papermill": {
      "default_parameters": {},
      "duration": 2296.35678,
      "end_time": "2022-04-07T12:39:01.145384",
      "environment_variables": {},
      "exception": null,
      "input_path": "__notebook__.ipynb",
      "output_path": "__notebook__.ipynb",
      "parameters": {},
      "start_time": "2022-04-07T12:00:44.788604",
      "version": "2.3.3"
    },
    "widgets": {
      "application/vnd.jupyter.widget-state+json": {
        "70e3aa89ccbe4331ae3cef56d67b39a3": {
          "model_module": "@jupyter-widgets/controls",
          "model_name": "HBoxModel",
          "model_module_version": "1.5.0",
          "state": {
            "_dom_classes": [],
            "_model_module": "@jupyter-widgets/controls",
            "_model_module_version": "1.5.0",
            "_model_name": "HBoxModel",
            "_view_count": null,
            "_view_module": "@jupyter-widgets/controls",
            "_view_module_version": "1.5.0",
            "_view_name": "HBoxView",
            "box_style": "",
            "children": [
              "IPY_MODEL_779fc2f0d2974bba87ff1ab32d1ff41b",
              "IPY_MODEL_509195af5ab64ba4abed515b009612ae",
              "IPY_MODEL_d03a358852da48b8a3ebe3d849cb0f04"
            ],
            "layout": "IPY_MODEL_e9f050a61da448299ab28ee819817d48"
          }
        },
        "779fc2f0d2974bba87ff1ab32d1ff41b": {
          "model_module": "@jupyter-widgets/controls",
          "model_name": "HTMLModel",
          "model_module_version": "1.5.0",
          "state": {
            "_dom_classes": [],
            "_model_module": "@jupyter-widgets/controls",
            "_model_module_version": "1.5.0",
            "_model_name": "HTMLModel",
            "_view_count": null,
            "_view_module": "@jupyter-widgets/controls",
            "_view_module_version": "1.5.0",
            "_view_name": "HTMLView",
            "description": "",
            "description_tooltip": null,
            "layout": "IPY_MODEL_3fe6ff70ceb04c7a9e492ad39d9a516c",
            "placeholder": "​",
            "style": "IPY_MODEL_d55f57eda77048289e7f34625d76c874",
            "value": "config.json: 100%"
          }
        },
        "509195af5ab64ba4abed515b009612ae": {
          "model_module": "@jupyter-widgets/controls",
          "model_name": "FloatProgressModel",
          "model_module_version": "1.5.0",
          "state": {
            "_dom_classes": [],
            "_model_module": "@jupyter-widgets/controls",
            "_model_module_version": "1.5.0",
            "_model_name": "FloatProgressModel",
            "_view_count": null,
            "_view_module": "@jupyter-widgets/controls",
            "_view_module_version": "1.5.0",
            "_view_name": "ProgressView",
            "bar_style": "success",
            "description": "",
            "description_tooltip": null,
            "layout": "IPY_MODEL_13f198f9f57945b2844caea83c1a8cdb",
            "max": 557,
            "min": 0,
            "orientation": "horizontal",
            "style": "IPY_MODEL_c9e93ffa99d34b54b72aa1741c297b72",
            "value": 557
          }
        },
        "d03a358852da48b8a3ebe3d849cb0f04": {
          "model_module": "@jupyter-widgets/controls",
          "model_name": "HTMLModel",
          "model_module_version": "1.5.0",
          "state": {
            "_dom_classes": [],
            "_model_module": "@jupyter-widgets/controls",
            "_model_module_version": "1.5.0",
            "_model_name": "HTMLModel",
            "_view_count": null,
            "_view_module": "@jupyter-widgets/controls",
            "_view_module_version": "1.5.0",
            "_view_name": "HTMLView",
            "description": "",
            "description_tooltip": null,
            "layout": "IPY_MODEL_62c075f5edb04bed938a4dc9f0a021ed",
            "placeholder": "​",
            "style": "IPY_MODEL_bac61fc7b0164fd8beb4fa0d6d5ad6a6",
            "value": " 557/557 [00:00&lt;00:00, 33.9kB/s]"
          }
        },
        "e9f050a61da448299ab28ee819817d48": {
          "model_module": "@jupyter-widgets/base",
          "model_name": "LayoutModel",
          "model_module_version": "1.2.0",
          "state": {
            "_model_module": "@jupyter-widgets/base",
            "_model_module_version": "1.2.0",
            "_model_name": "LayoutModel",
            "_view_count": null,
            "_view_module": "@jupyter-widgets/base",
            "_view_module_version": "1.2.0",
            "_view_name": "LayoutView",
            "align_content": null,
            "align_items": null,
            "align_self": null,
            "border": null,
            "bottom": null,
            "display": null,
            "flex": null,
            "flex_flow": null,
            "grid_area": null,
            "grid_auto_columns": null,
            "grid_auto_flow": null,
            "grid_auto_rows": null,
            "grid_column": null,
            "grid_gap": null,
            "grid_row": null,
            "grid_template_areas": null,
            "grid_template_columns": null,
            "grid_template_rows": null,
            "height": null,
            "justify_content": null,
            "justify_items": null,
            "left": null,
            "margin": null,
            "max_height": null,
            "max_width": null,
            "min_height": null,
            "min_width": null,
            "object_fit": null,
            "object_position": null,
            "order": null,
            "overflow": null,
            "overflow_x": null,
            "overflow_y": null,
            "padding": null,
            "right": null,
            "top": null,
            "visibility": null,
            "width": null
          }
        },
        "3fe6ff70ceb04c7a9e492ad39d9a516c": {
          "model_module": "@jupyter-widgets/base",
          "model_name": "LayoutModel",
          "model_module_version": "1.2.0",
          "state": {
            "_model_module": "@jupyter-widgets/base",
            "_model_module_version": "1.2.0",
            "_model_name": "LayoutModel",
            "_view_count": null,
            "_view_module": "@jupyter-widgets/base",
            "_view_module_version": "1.2.0",
            "_view_name": "LayoutView",
            "align_content": null,
            "align_items": null,
            "align_self": null,
            "border": null,
            "bottom": null,
            "display": null,
            "flex": null,
            "flex_flow": null,
            "grid_area": null,
            "grid_auto_columns": null,
            "grid_auto_flow": null,
            "grid_auto_rows": null,
            "grid_column": null,
            "grid_gap": null,
            "grid_row": null,
            "grid_template_areas": null,
            "grid_template_columns": null,
            "grid_template_rows": null,
            "height": null,
            "justify_content": null,
            "justify_items": null,
            "left": null,
            "margin": null,
            "max_height": null,
            "max_width": null,
            "min_height": null,
            "min_width": null,
            "object_fit": null,
            "object_position": null,
            "order": null,
            "overflow": null,
            "overflow_x": null,
            "overflow_y": null,
            "padding": null,
            "right": null,
            "top": null,
            "visibility": null,
            "width": null
          }
        },
        "d55f57eda77048289e7f34625d76c874": {
          "model_module": "@jupyter-widgets/controls",
          "model_name": "DescriptionStyleModel",
          "model_module_version": "1.5.0",
          "state": {
            "_model_module": "@jupyter-widgets/controls",
            "_model_module_version": "1.5.0",
            "_model_name": "DescriptionStyleModel",
            "_view_count": null,
            "_view_module": "@jupyter-widgets/base",
            "_view_module_version": "1.2.0",
            "_view_name": "StyleView",
            "description_width": ""
          }
        },
        "13f198f9f57945b2844caea83c1a8cdb": {
          "model_module": "@jupyter-widgets/base",
          "model_name": "LayoutModel",
          "model_module_version": "1.2.0",
          "state": {
            "_model_module": "@jupyter-widgets/base",
            "_model_module_version": "1.2.0",
            "_model_name": "LayoutModel",
            "_view_count": null,
            "_view_module": "@jupyter-widgets/base",
            "_view_module_version": "1.2.0",
            "_view_name": "LayoutView",
            "align_content": null,
            "align_items": null,
            "align_self": null,
            "border": null,
            "bottom": null,
            "display": null,
            "flex": null,
            "flex_flow": null,
            "grid_area": null,
            "grid_auto_columns": null,
            "grid_auto_flow": null,
            "grid_auto_rows": null,
            "grid_column": null,
            "grid_gap": null,
            "grid_row": null,
            "grid_template_areas": null,
            "grid_template_columns": null,
            "grid_template_rows": null,
            "height": null,
            "justify_content": null,
            "justify_items": null,
            "left": null,
            "margin": null,
            "max_height": null,
            "max_width": null,
            "min_height": null,
            "min_width": null,
            "object_fit": null,
            "object_position": null,
            "order": null,
            "overflow": null,
            "overflow_x": null,
            "overflow_y": null,
            "padding": null,
            "right": null,
            "top": null,
            "visibility": null,
            "width": null
          }
        },
        "c9e93ffa99d34b54b72aa1741c297b72": {
          "model_module": "@jupyter-widgets/controls",
          "model_name": "ProgressStyleModel",
          "model_module_version": "1.5.0",
          "state": {
            "_model_module": "@jupyter-widgets/controls",
            "_model_module_version": "1.5.0",
            "_model_name": "ProgressStyleModel",
            "_view_count": null,
            "_view_module": "@jupyter-widgets/base",
            "_view_module_version": "1.2.0",
            "_view_name": "StyleView",
            "bar_color": null,
            "description_width": ""
          }
        },
        "62c075f5edb04bed938a4dc9f0a021ed": {
          "model_module": "@jupyter-widgets/base",
          "model_name": "LayoutModel",
          "model_module_version": "1.2.0",
          "state": {
            "_model_module": "@jupyter-widgets/base",
            "_model_module_version": "1.2.0",
            "_model_name": "LayoutModel",
            "_view_count": null,
            "_view_module": "@jupyter-widgets/base",
            "_view_module_version": "1.2.0",
            "_view_name": "LayoutView",
            "align_content": null,
            "align_items": null,
            "align_self": null,
            "border": null,
            "bottom": null,
            "display": null,
            "flex": null,
            "flex_flow": null,
            "grid_area": null,
            "grid_auto_columns": null,
            "grid_auto_flow": null,
            "grid_auto_rows": null,
            "grid_column": null,
            "grid_gap": null,
            "grid_row": null,
            "grid_template_areas": null,
            "grid_template_columns": null,
            "grid_template_rows": null,
            "height": null,
            "justify_content": null,
            "justify_items": null,
            "left": null,
            "margin": null,
            "max_height": null,
            "max_width": null,
            "min_height": null,
            "min_width": null,
            "object_fit": null,
            "object_position": null,
            "order": null,
            "overflow": null,
            "overflow_x": null,
            "overflow_y": null,
            "padding": null,
            "right": null,
            "top": null,
            "visibility": null,
            "width": null
          }
        },
        "bac61fc7b0164fd8beb4fa0d6d5ad6a6": {
          "model_module": "@jupyter-widgets/controls",
          "model_name": "DescriptionStyleModel",
          "model_module_version": "1.5.0",
          "state": {
            "_model_module": "@jupyter-widgets/controls",
            "_model_module_version": "1.5.0",
            "_model_name": "DescriptionStyleModel",
            "_view_count": null,
            "_view_module": "@jupyter-widgets/base",
            "_view_module_version": "1.2.0",
            "_view_name": "StyleView",
            "description_width": ""
          }
        },
        "4854ce01ed124b0e8e9f9778ad7b0c85": {
          "model_module": "@jupyter-widgets/controls",
          "model_name": "HBoxModel",
          "model_module_version": "1.5.0",
          "state": {
            "_dom_classes": [],
            "_model_module": "@jupyter-widgets/controls",
            "_model_module_version": "1.5.0",
            "_model_name": "HBoxModel",
            "_view_count": null,
            "_view_module": "@jupyter-widgets/controls",
            "_view_module_version": "1.5.0",
            "_view_name": "HBoxView",
            "box_style": "",
            "children": [
              "IPY_MODEL_0d0745d8594d40fbab7be99a18356df2",
              "IPY_MODEL_778085027f1b45ac80e6e3df19837eaf",
              "IPY_MODEL_ec69cc839906417ba13ba0bd917c476a"
            ],
            "layout": "IPY_MODEL_b9e64550cc1746bc9db20d03b4712bf7"
          }
        },
        "0d0745d8594d40fbab7be99a18356df2": {
          "model_module": "@jupyter-widgets/controls",
          "model_name": "HTMLModel",
          "model_module_version": "1.5.0",
          "state": {
            "_dom_classes": [],
            "_model_module": "@jupyter-widgets/controls",
            "_model_module_version": "1.5.0",
            "_model_name": "HTMLModel",
            "_view_count": null,
            "_view_module": "@jupyter-widgets/controls",
            "_view_module_version": "1.5.0",
            "_view_name": "HTMLView",
            "description": "",
            "description_tooltip": null,
            "layout": "IPY_MODEL_7210ee2209414d649a39caffcaa53a35",
            "placeholder": "​",
            "style": "IPY_MODEL_0bdf111ff4384d1cac926131262dffee",
            "value": "vocab.txt: 100%"
          }
        },
        "778085027f1b45ac80e6e3df19837eaf": {
          "model_module": "@jupyter-widgets/controls",
          "model_name": "FloatProgressModel",
          "model_module_version": "1.5.0",
          "state": {
            "_dom_classes": [],
            "_model_module": "@jupyter-widgets/controls",
            "_model_module_version": "1.5.0",
            "_model_name": "FloatProgressModel",
            "_view_count": null,
            "_view_module": "@jupyter-widgets/controls",
            "_view_module_version": "1.5.0",
            "_view_name": "ProgressView",
            "bar_style": "success",
            "description": "",
            "description_tooltip": null,
            "layout": "IPY_MODEL_479ee8da365d41ecb8488f7b7db3273d",
            "max": 895321,
            "min": 0,
            "orientation": "horizontal",
            "style": "IPY_MODEL_f9f7d4947f9649748b08dd9c0d2816ca",
            "value": 895321
          }
        },
        "ec69cc839906417ba13ba0bd917c476a": {
          "model_module": "@jupyter-widgets/controls",
          "model_name": "HTMLModel",
          "model_module_version": "1.5.0",
          "state": {
            "_dom_classes": [],
            "_model_module": "@jupyter-widgets/controls",
            "_model_module_version": "1.5.0",
            "_model_name": "HTMLModel",
            "_view_count": null,
            "_view_module": "@jupyter-widgets/controls",
            "_view_module_version": "1.5.0",
            "_view_name": "HTMLView",
            "description": "",
            "description_tooltip": null,
            "layout": "IPY_MODEL_f109a7c09d9340c0a2227c390e683e5f",
            "placeholder": "​",
            "style": "IPY_MODEL_9023b0fcba1f4a619ef9201e12479809",
            "value": " 895k/895k [00:00&lt;00:00, 1.83MB/s]"
          }
        },
        "b9e64550cc1746bc9db20d03b4712bf7": {
          "model_module": "@jupyter-widgets/base",
          "model_name": "LayoutModel",
          "model_module_version": "1.2.0",
          "state": {
            "_model_module": "@jupyter-widgets/base",
            "_model_module_version": "1.2.0",
            "_model_name": "LayoutModel",
            "_view_count": null,
            "_view_module": "@jupyter-widgets/base",
            "_view_module_version": "1.2.0",
            "_view_name": "LayoutView",
            "align_content": null,
            "align_items": null,
            "align_self": null,
            "border": null,
            "bottom": null,
            "display": null,
            "flex": null,
            "flex_flow": null,
            "grid_area": null,
            "grid_auto_columns": null,
            "grid_auto_flow": null,
            "grid_auto_rows": null,
            "grid_column": null,
            "grid_gap": null,
            "grid_row": null,
            "grid_template_areas": null,
            "grid_template_columns": null,
            "grid_template_rows": null,
            "height": null,
            "justify_content": null,
            "justify_items": null,
            "left": null,
            "margin": null,
            "max_height": null,
            "max_width": null,
            "min_height": null,
            "min_width": null,
            "object_fit": null,
            "object_position": null,
            "order": null,
            "overflow": null,
            "overflow_x": null,
            "overflow_y": null,
            "padding": null,
            "right": null,
            "top": null,
            "visibility": null,
            "width": null
          }
        },
        "7210ee2209414d649a39caffcaa53a35": {
          "model_module": "@jupyter-widgets/base",
          "model_name": "LayoutModel",
          "model_module_version": "1.2.0",
          "state": {
            "_model_module": "@jupyter-widgets/base",
            "_model_module_version": "1.2.0",
            "_model_name": "LayoutModel",
            "_view_count": null,
            "_view_module": "@jupyter-widgets/base",
            "_view_module_version": "1.2.0",
            "_view_name": "LayoutView",
            "align_content": null,
            "align_items": null,
            "align_self": null,
            "border": null,
            "bottom": null,
            "display": null,
            "flex": null,
            "flex_flow": null,
            "grid_area": null,
            "grid_auto_columns": null,
            "grid_auto_flow": null,
            "grid_auto_rows": null,
            "grid_column": null,
            "grid_gap": null,
            "grid_row": null,
            "grid_template_areas": null,
            "grid_template_columns": null,
            "grid_template_rows": null,
            "height": null,
            "justify_content": null,
            "justify_items": null,
            "left": null,
            "margin": null,
            "max_height": null,
            "max_width": null,
            "min_height": null,
            "min_width": null,
            "object_fit": null,
            "object_position": null,
            "order": null,
            "overflow": null,
            "overflow_x": null,
            "overflow_y": null,
            "padding": null,
            "right": null,
            "top": null,
            "visibility": null,
            "width": null
          }
        },
        "0bdf111ff4384d1cac926131262dffee": {
          "model_module": "@jupyter-widgets/controls",
          "model_name": "DescriptionStyleModel",
          "model_module_version": "1.5.0",
          "state": {
            "_model_module": "@jupyter-widgets/controls",
            "_model_module_version": "1.5.0",
            "_model_name": "DescriptionStyleModel",
            "_view_count": null,
            "_view_module": "@jupyter-widgets/base",
            "_view_module_version": "1.2.0",
            "_view_name": "StyleView",
            "description_width": ""
          }
        },
        "479ee8da365d41ecb8488f7b7db3273d": {
          "model_module": "@jupyter-widgets/base",
          "model_name": "LayoutModel",
          "model_module_version": "1.2.0",
          "state": {
            "_model_module": "@jupyter-widgets/base",
            "_model_module_version": "1.2.0",
            "_model_name": "LayoutModel",
            "_view_count": null,
            "_view_module": "@jupyter-widgets/base",
            "_view_module_version": "1.2.0",
            "_view_name": "LayoutView",
            "align_content": null,
            "align_items": null,
            "align_self": null,
            "border": null,
            "bottom": null,
            "display": null,
            "flex": null,
            "flex_flow": null,
            "grid_area": null,
            "grid_auto_columns": null,
            "grid_auto_flow": null,
            "grid_auto_rows": null,
            "grid_column": null,
            "grid_gap": null,
            "grid_row": null,
            "grid_template_areas": null,
            "grid_template_columns": null,
            "grid_template_rows": null,
            "height": null,
            "justify_content": null,
            "justify_items": null,
            "left": null,
            "margin": null,
            "max_height": null,
            "max_width": null,
            "min_height": null,
            "min_width": null,
            "object_fit": null,
            "object_position": null,
            "order": null,
            "overflow": null,
            "overflow_x": null,
            "overflow_y": null,
            "padding": null,
            "right": null,
            "top": null,
            "visibility": null,
            "width": null
          }
        },
        "f9f7d4947f9649748b08dd9c0d2816ca": {
          "model_module": "@jupyter-widgets/controls",
          "model_name": "ProgressStyleModel",
          "model_module_version": "1.5.0",
          "state": {
            "_model_module": "@jupyter-widgets/controls",
            "_model_module_version": "1.5.0",
            "_model_name": "ProgressStyleModel",
            "_view_count": null,
            "_view_module": "@jupyter-widgets/base",
            "_view_module_version": "1.2.0",
            "_view_name": "StyleView",
            "bar_color": null,
            "description_width": ""
          }
        },
        "f109a7c09d9340c0a2227c390e683e5f": {
          "model_module": "@jupyter-widgets/base",
          "model_name": "LayoutModel",
          "model_module_version": "1.2.0",
          "state": {
            "_model_module": "@jupyter-widgets/base",
            "_model_module_version": "1.2.0",
            "_model_name": "LayoutModel",
            "_view_count": null,
            "_view_module": "@jupyter-widgets/base",
            "_view_module_version": "1.2.0",
            "_view_name": "LayoutView",
            "align_content": null,
            "align_items": null,
            "align_self": null,
            "border": null,
            "bottom": null,
            "display": null,
            "flex": null,
            "flex_flow": null,
            "grid_area": null,
            "grid_auto_columns": null,
            "grid_auto_flow": null,
            "grid_auto_rows": null,
            "grid_column": null,
            "grid_gap": null,
            "grid_row": null,
            "grid_template_areas": null,
            "grid_template_columns": null,
            "grid_template_rows": null,
            "height": null,
            "justify_content": null,
            "justify_items": null,
            "left": null,
            "margin": null,
            "max_height": null,
            "max_width": null,
            "min_height": null,
            "min_width": null,
            "object_fit": null,
            "object_position": null,
            "order": null,
            "overflow": null,
            "overflow_x": null,
            "overflow_y": null,
            "padding": null,
            "right": null,
            "top": null,
            "visibility": null,
            "width": null
          }
        },
        "9023b0fcba1f4a619ef9201e12479809": {
          "model_module": "@jupyter-widgets/controls",
          "model_name": "DescriptionStyleModel",
          "model_module_version": "1.5.0",
          "state": {
            "_model_module": "@jupyter-widgets/controls",
            "_model_module_version": "1.5.0",
            "_model_name": "DescriptionStyleModel",
            "_view_count": null,
            "_view_module": "@jupyter-widgets/base",
            "_view_module_version": "1.2.0",
            "_view_name": "StyleView",
            "description_width": ""
          }
        },
        "2bcdd46f74e043cdb9cb1c1c4d90d23f": {
          "model_module": "@jupyter-widgets/controls",
          "model_name": "HBoxModel",
          "model_module_version": "1.5.0",
          "state": {
            "_dom_classes": [],
            "_model_module": "@jupyter-widgets/controls",
            "_model_module_version": "1.5.0",
            "_model_name": "HBoxModel",
            "_view_count": null,
            "_view_module": "@jupyter-widgets/controls",
            "_view_module_version": "1.5.0",
            "_view_name": "HBoxView",
            "box_style": "",
            "children": [
              "IPY_MODEL_eb54b6c4ca974205b4890c0b94e31221",
              "IPY_MODEL_64f2a028e18d42eeb61225b6af095727",
              "IPY_MODEL_1244690afbd44f22abdd8e7dc5a9e02a"
            ],
            "layout": "IPY_MODEL_758908bd13d04b30a55e1bc518478ad6"
          }
        },
        "eb54b6c4ca974205b4890c0b94e31221": {
          "model_module": "@jupyter-widgets/controls",
          "model_name": "HTMLModel",
          "model_module_version": "1.5.0",
          "state": {
            "_dom_classes": [],
            "_model_module": "@jupyter-widgets/controls",
            "_model_module_version": "1.5.0",
            "_model_name": "HTMLModel",
            "_view_count": null,
            "_view_module": "@jupyter-widgets/controls",
            "_view_module_version": "1.5.0",
            "_view_name": "HTMLView",
            "description": "",
            "description_tooltip": null,
            "layout": "IPY_MODEL_d7c2dfb4e941498f9ef6e174a10ab6dc",
            "placeholder": "​",
            "style": "IPY_MODEL_ee37c86bfa2846539c40d2e45512d348",
            "value": "bpe.codes: 100%"
          }
        },
        "64f2a028e18d42eeb61225b6af095727": {
          "model_module": "@jupyter-widgets/controls",
          "model_name": "FloatProgressModel",
          "model_module_version": "1.5.0",
          "state": {
            "_dom_classes": [],
            "_model_module": "@jupyter-widgets/controls",
            "_model_module_version": "1.5.0",
            "_model_name": "FloatProgressModel",
            "_view_count": null,
            "_view_module": "@jupyter-widgets/controls",
            "_view_module_version": "1.5.0",
            "_view_name": "ProgressView",
            "bar_style": "success",
            "description": "",
            "description_tooltip": null,
            "layout": "IPY_MODEL_8136ce46bddb4cbc95b8bb0c16c5b992",
            "max": 1135173,
            "min": 0,
            "orientation": "horizontal",
            "style": "IPY_MODEL_18692d0034eb444c851d379eb534ca7c",
            "value": 1135173
          }
        },
        "1244690afbd44f22abdd8e7dc5a9e02a": {
          "model_module": "@jupyter-widgets/controls",
          "model_name": "HTMLModel",
          "model_module_version": "1.5.0",
          "state": {
            "_dom_classes": [],
            "_model_module": "@jupyter-widgets/controls",
            "_model_module_version": "1.5.0",
            "_model_name": "HTMLModel",
            "_view_count": null,
            "_view_module": "@jupyter-widgets/controls",
            "_view_module_version": "1.5.0",
            "_view_name": "HTMLView",
            "description": "",
            "description_tooltip": null,
            "layout": "IPY_MODEL_f8e941f55141435c805da216fa50b5ec",
            "placeholder": "​",
            "style": "IPY_MODEL_0ec415013688417bb911e5ed808db648",
            "value": " 1.14M/1.14M [00:00&lt;00:00, 4.65MB/s]"
          }
        },
        "758908bd13d04b30a55e1bc518478ad6": {
          "model_module": "@jupyter-widgets/base",
          "model_name": "LayoutModel",
          "model_module_version": "1.2.0",
          "state": {
            "_model_module": "@jupyter-widgets/base",
            "_model_module_version": "1.2.0",
            "_model_name": "LayoutModel",
            "_view_count": null,
            "_view_module": "@jupyter-widgets/base",
            "_view_module_version": "1.2.0",
            "_view_name": "LayoutView",
            "align_content": null,
            "align_items": null,
            "align_self": null,
            "border": null,
            "bottom": null,
            "display": null,
            "flex": null,
            "flex_flow": null,
            "grid_area": null,
            "grid_auto_columns": null,
            "grid_auto_flow": null,
            "grid_auto_rows": null,
            "grid_column": null,
            "grid_gap": null,
            "grid_row": null,
            "grid_template_areas": null,
            "grid_template_columns": null,
            "grid_template_rows": null,
            "height": null,
            "justify_content": null,
            "justify_items": null,
            "left": null,
            "margin": null,
            "max_height": null,
            "max_width": null,
            "min_height": null,
            "min_width": null,
            "object_fit": null,
            "object_position": null,
            "order": null,
            "overflow": null,
            "overflow_x": null,
            "overflow_y": null,
            "padding": null,
            "right": null,
            "top": null,
            "visibility": null,
            "width": null
          }
        },
        "d7c2dfb4e941498f9ef6e174a10ab6dc": {
          "model_module": "@jupyter-widgets/base",
          "model_name": "LayoutModel",
          "model_module_version": "1.2.0",
          "state": {
            "_model_module": "@jupyter-widgets/base",
            "_model_module_version": "1.2.0",
            "_model_name": "LayoutModel",
            "_view_count": null,
            "_view_module": "@jupyter-widgets/base",
            "_view_module_version": "1.2.0",
            "_view_name": "LayoutView",
            "align_content": null,
            "align_items": null,
            "align_self": null,
            "border": null,
            "bottom": null,
            "display": null,
            "flex": null,
            "flex_flow": null,
            "grid_area": null,
            "grid_auto_columns": null,
            "grid_auto_flow": null,
            "grid_auto_rows": null,
            "grid_column": null,
            "grid_gap": null,
            "grid_row": null,
            "grid_template_areas": null,
            "grid_template_columns": null,
            "grid_template_rows": null,
            "height": null,
            "justify_content": null,
            "justify_items": null,
            "left": null,
            "margin": null,
            "max_height": null,
            "max_width": null,
            "min_height": null,
            "min_width": null,
            "object_fit": null,
            "object_position": null,
            "order": null,
            "overflow": null,
            "overflow_x": null,
            "overflow_y": null,
            "padding": null,
            "right": null,
            "top": null,
            "visibility": null,
            "width": null
          }
        },
        "ee37c86bfa2846539c40d2e45512d348": {
          "model_module": "@jupyter-widgets/controls",
          "model_name": "DescriptionStyleModel",
          "model_module_version": "1.5.0",
          "state": {
            "_model_module": "@jupyter-widgets/controls",
            "_model_module_version": "1.5.0",
            "_model_name": "DescriptionStyleModel",
            "_view_count": null,
            "_view_module": "@jupyter-widgets/base",
            "_view_module_version": "1.2.0",
            "_view_name": "StyleView",
            "description_width": ""
          }
        },
        "8136ce46bddb4cbc95b8bb0c16c5b992": {
          "model_module": "@jupyter-widgets/base",
          "model_name": "LayoutModel",
          "model_module_version": "1.2.0",
          "state": {
            "_model_module": "@jupyter-widgets/base",
            "_model_module_version": "1.2.0",
            "_model_name": "LayoutModel",
            "_view_count": null,
            "_view_module": "@jupyter-widgets/base",
            "_view_module_version": "1.2.0",
            "_view_name": "LayoutView",
            "align_content": null,
            "align_items": null,
            "align_self": null,
            "border": null,
            "bottom": null,
            "display": null,
            "flex": null,
            "flex_flow": null,
            "grid_area": null,
            "grid_auto_columns": null,
            "grid_auto_flow": null,
            "grid_auto_rows": null,
            "grid_column": null,
            "grid_gap": null,
            "grid_row": null,
            "grid_template_areas": null,
            "grid_template_columns": null,
            "grid_template_rows": null,
            "height": null,
            "justify_content": null,
            "justify_items": null,
            "left": null,
            "margin": null,
            "max_height": null,
            "max_width": null,
            "min_height": null,
            "min_width": null,
            "object_fit": null,
            "object_position": null,
            "order": null,
            "overflow": null,
            "overflow_x": null,
            "overflow_y": null,
            "padding": null,
            "right": null,
            "top": null,
            "visibility": null,
            "width": null
          }
        },
        "18692d0034eb444c851d379eb534ca7c": {
          "model_module": "@jupyter-widgets/controls",
          "model_name": "ProgressStyleModel",
          "model_module_version": "1.5.0",
          "state": {
            "_model_module": "@jupyter-widgets/controls",
            "_model_module_version": "1.5.0",
            "_model_name": "ProgressStyleModel",
            "_view_count": null,
            "_view_module": "@jupyter-widgets/base",
            "_view_module_version": "1.2.0",
            "_view_name": "StyleView",
            "bar_color": null,
            "description_width": ""
          }
        },
        "f8e941f55141435c805da216fa50b5ec": {
          "model_module": "@jupyter-widgets/base",
          "model_name": "LayoutModel",
          "model_module_version": "1.2.0",
          "state": {
            "_model_module": "@jupyter-widgets/base",
            "_model_module_version": "1.2.0",
            "_model_name": "LayoutModel",
            "_view_count": null,
            "_view_module": "@jupyter-widgets/base",
            "_view_module_version": "1.2.0",
            "_view_name": "LayoutView",
            "align_content": null,
            "align_items": null,
            "align_self": null,
            "border": null,
            "bottom": null,
            "display": null,
            "flex": null,
            "flex_flow": null,
            "grid_area": null,
            "grid_auto_columns": null,
            "grid_auto_flow": null,
            "grid_auto_rows": null,
            "grid_column": null,
            "grid_gap": null,
            "grid_row": null,
            "grid_template_areas": null,
            "grid_template_columns": null,
            "grid_template_rows": null,
            "height": null,
            "justify_content": null,
            "justify_items": null,
            "left": null,
            "margin": null,
            "max_height": null,
            "max_width": null,
            "min_height": null,
            "min_width": null,
            "object_fit": null,
            "object_position": null,
            "order": null,
            "overflow": null,
            "overflow_x": null,
            "overflow_y": null,
            "padding": null,
            "right": null,
            "top": null,
            "visibility": null,
            "width": null
          }
        },
        "0ec415013688417bb911e5ed808db648": {
          "model_module": "@jupyter-widgets/controls",
          "model_name": "DescriptionStyleModel",
          "model_module_version": "1.5.0",
          "state": {
            "_model_module": "@jupyter-widgets/controls",
            "_model_module_version": "1.5.0",
            "_model_name": "DescriptionStyleModel",
            "_view_count": null,
            "_view_module": "@jupyter-widgets/base",
            "_view_module_version": "1.2.0",
            "_view_name": "StyleView",
            "description_width": ""
          }
        },
        "6bb5e788419f44faac4caa85cfdbd3c8": {
          "model_module": "@jupyter-widgets/controls",
          "model_name": "HBoxModel",
          "model_module_version": "1.5.0",
          "state": {
            "_dom_classes": [],
            "_model_module": "@jupyter-widgets/controls",
            "_model_module_version": "1.5.0",
            "_model_name": "HBoxModel",
            "_view_count": null,
            "_view_module": "@jupyter-widgets/controls",
            "_view_module_version": "1.5.0",
            "_view_name": "HBoxView",
            "box_style": "",
            "children": [
              "IPY_MODEL_b4254594c1ac4524880f39f1222de935",
              "IPY_MODEL_b57656f16b92467d9219bddccf8da215",
              "IPY_MODEL_910e8e7208564fa18624c57cf5b2eb2a"
            ],
            "layout": "IPY_MODEL_95095512921b424d9e493159d500200d"
          }
        },
        "b4254594c1ac4524880f39f1222de935": {
          "model_module": "@jupyter-widgets/controls",
          "model_name": "HTMLModel",
          "model_module_version": "1.5.0",
          "state": {
            "_dom_classes": [],
            "_model_module": "@jupyter-widgets/controls",
            "_model_module_version": "1.5.0",
            "_model_name": "HTMLModel",
            "_view_count": null,
            "_view_module": "@jupyter-widgets/controls",
            "_view_module_version": "1.5.0",
            "_view_name": "HTMLView",
            "description": "",
            "description_tooltip": null,
            "layout": "IPY_MODEL_da7bbc5e011b4a7f870d8fe0bb4a0a24",
            "placeholder": "​",
            "style": "IPY_MODEL_c6b1ab1f288341e5b47f0020189e4987",
            "value": "tokenizer.json: 100%"
          }
        },
        "b57656f16b92467d9219bddccf8da215": {
          "model_module": "@jupyter-widgets/controls",
          "model_name": "FloatProgressModel",
          "model_module_version": "1.5.0",
          "state": {
            "_dom_classes": [],
            "_model_module": "@jupyter-widgets/controls",
            "_model_module_version": "1.5.0",
            "_model_name": "FloatProgressModel",
            "_view_count": null,
            "_view_module": "@jupyter-widgets/controls",
            "_view_module_version": "1.5.0",
            "_view_name": "ProgressView",
            "bar_style": "success",
            "description": "",
            "description_tooltip": null,
            "layout": "IPY_MODEL_2272bd9abbbd44ef9fa1fd8ecac9ac97",
            "max": 3132320,
            "min": 0,
            "orientation": "horizontal",
            "style": "IPY_MODEL_0021b5ed5554470797500b4837ac1ce0",
            "value": 3132320
          }
        },
        "910e8e7208564fa18624c57cf5b2eb2a": {
          "model_module": "@jupyter-widgets/controls",
          "model_name": "HTMLModel",
          "model_module_version": "1.5.0",
          "state": {
            "_dom_classes": [],
            "_model_module": "@jupyter-widgets/controls",
            "_model_module_version": "1.5.0",
            "_model_name": "HTMLModel",
            "_view_count": null,
            "_view_module": "@jupyter-widgets/controls",
            "_view_module_version": "1.5.0",
            "_view_name": "HTMLView",
            "description": "",
            "description_tooltip": null,
            "layout": "IPY_MODEL_4ec224cd74a844c480cdd919780a8dbc",
            "placeholder": "​",
            "style": "IPY_MODEL_e0cb2992bff74181aff7f9020646bfe4",
            "value": " 3.13M/3.13M [00:00&lt;00:00, 4.26MB/s]"
          }
        },
        "95095512921b424d9e493159d500200d": {
          "model_module": "@jupyter-widgets/base",
          "model_name": "LayoutModel",
          "model_module_version": "1.2.0",
          "state": {
            "_model_module": "@jupyter-widgets/base",
            "_model_module_version": "1.2.0",
            "_model_name": "LayoutModel",
            "_view_count": null,
            "_view_module": "@jupyter-widgets/base",
            "_view_module_version": "1.2.0",
            "_view_name": "LayoutView",
            "align_content": null,
            "align_items": null,
            "align_self": null,
            "border": null,
            "bottom": null,
            "display": null,
            "flex": null,
            "flex_flow": null,
            "grid_area": null,
            "grid_auto_columns": null,
            "grid_auto_flow": null,
            "grid_auto_rows": null,
            "grid_column": null,
            "grid_gap": null,
            "grid_row": null,
            "grid_template_areas": null,
            "grid_template_columns": null,
            "grid_template_rows": null,
            "height": null,
            "justify_content": null,
            "justify_items": null,
            "left": null,
            "margin": null,
            "max_height": null,
            "max_width": null,
            "min_height": null,
            "min_width": null,
            "object_fit": null,
            "object_position": null,
            "order": null,
            "overflow": null,
            "overflow_x": null,
            "overflow_y": null,
            "padding": null,
            "right": null,
            "top": null,
            "visibility": null,
            "width": null
          }
        },
        "da7bbc5e011b4a7f870d8fe0bb4a0a24": {
          "model_module": "@jupyter-widgets/base",
          "model_name": "LayoutModel",
          "model_module_version": "1.2.0",
          "state": {
            "_model_module": "@jupyter-widgets/base",
            "_model_module_version": "1.2.0",
            "_model_name": "LayoutModel",
            "_view_count": null,
            "_view_module": "@jupyter-widgets/base",
            "_view_module_version": "1.2.0",
            "_view_name": "LayoutView",
            "align_content": null,
            "align_items": null,
            "align_self": null,
            "border": null,
            "bottom": null,
            "display": null,
            "flex": null,
            "flex_flow": null,
            "grid_area": null,
            "grid_auto_columns": null,
            "grid_auto_flow": null,
            "grid_auto_rows": null,
            "grid_column": null,
            "grid_gap": null,
            "grid_row": null,
            "grid_template_areas": null,
            "grid_template_columns": null,
            "grid_template_rows": null,
            "height": null,
            "justify_content": null,
            "justify_items": null,
            "left": null,
            "margin": null,
            "max_height": null,
            "max_width": null,
            "min_height": null,
            "min_width": null,
            "object_fit": null,
            "object_position": null,
            "order": null,
            "overflow": null,
            "overflow_x": null,
            "overflow_y": null,
            "padding": null,
            "right": null,
            "top": null,
            "visibility": null,
            "width": null
          }
        },
        "c6b1ab1f288341e5b47f0020189e4987": {
          "model_module": "@jupyter-widgets/controls",
          "model_name": "DescriptionStyleModel",
          "model_module_version": "1.5.0",
          "state": {
            "_model_module": "@jupyter-widgets/controls",
            "_model_module_version": "1.5.0",
            "_model_name": "DescriptionStyleModel",
            "_view_count": null,
            "_view_module": "@jupyter-widgets/base",
            "_view_module_version": "1.2.0",
            "_view_name": "StyleView",
            "description_width": ""
          }
        },
        "2272bd9abbbd44ef9fa1fd8ecac9ac97": {
          "model_module": "@jupyter-widgets/base",
          "model_name": "LayoutModel",
          "model_module_version": "1.2.0",
          "state": {
            "_model_module": "@jupyter-widgets/base",
            "_model_module_version": "1.2.0",
            "_model_name": "LayoutModel",
            "_view_count": null,
            "_view_module": "@jupyter-widgets/base",
            "_view_module_version": "1.2.0",
            "_view_name": "LayoutView",
            "align_content": null,
            "align_items": null,
            "align_self": null,
            "border": null,
            "bottom": null,
            "display": null,
            "flex": null,
            "flex_flow": null,
            "grid_area": null,
            "grid_auto_columns": null,
            "grid_auto_flow": null,
            "grid_auto_rows": null,
            "grid_column": null,
            "grid_gap": null,
            "grid_row": null,
            "grid_template_areas": null,
            "grid_template_columns": null,
            "grid_template_rows": null,
            "height": null,
            "justify_content": null,
            "justify_items": null,
            "left": null,
            "margin": null,
            "max_height": null,
            "max_width": null,
            "min_height": null,
            "min_width": null,
            "object_fit": null,
            "object_position": null,
            "order": null,
            "overflow": null,
            "overflow_x": null,
            "overflow_y": null,
            "padding": null,
            "right": null,
            "top": null,
            "visibility": null,
            "width": null
          }
        },
        "0021b5ed5554470797500b4837ac1ce0": {
          "model_module": "@jupyter-widgets/controls",
          "model_name": "ProgressStyleModel",
          "model_module_version": "1.5.0",
          "state": {
            "_model_module": "@jupyter-widgets/controls",
            "_model_module_version": "1.5.0",
            "_model_name": "ProgressStyleModel",
            "_view_count": null,
            "_view_module": "@jupyter-widgets/base",
            "_view_module_version": "1.2.0",
            "_view_name": "StyleView",
            "bar_color": null,
            "description_width": ""
          }
        },
        "4ec224cd74a844c480cdd919780a8dbc": {
          "model_module": "@jupyter-widgets/base",
          "model_name": "LayoutModel",
          "model_module_version": "1.2.0",
          "state": {
            "_model_module": "@jupyter-widgets/base",
            "_model_module_version": "1.2.0",
            "_model_name": "LayoutModel",
            "_view_count": null,
            "_view_module": "@jupyter-widgets/base",
            "_view_module_version": "1.2.0",
            "_view_name": "LayoutView",
            "align_content": null,
            "align_items": null,
            "align_self": null,
            "border": null,
            "bottom": null,
            "display": null,
            "flex": null,
            "flex_flow": null,
            "grid_area": null,
            "grid_auto_columns": null,
            "grid_auto_flow": null,
            "grid_auto_rows": null,
            "grid_column": null,
            "grid_gap": null,
            "grid_row": null,
            "grid_template_areas": null,
            "grid_template_columns": null,
            "grid_template_rows": null,
            "height": null,
            "justify_content": null,
            "justify_items": null,
            "left": null,
            "margin": null,
            "max_height": null,
            "max_width": null,
            "min_height": null,
            "min_width": null,
            "object_fit": null,
            "object_position": null,
            "order": null,
            "overflow": null,
            "overflow_x": null,
            "overflow_y": null,
            "padding": null,
            "right": null,
            "top": null,
            "visibility": null,
            "width": null
          }
        },
        "e0cb2992bff74181aff7f9020646bfe4": {
          "model_module": "@jupyter-widgets/controls",
          "model_name": "DescriptionStyleModel",
          "model_module_version": "1.5.0",
          "state": {
            "_model_module": "@jupyter-widgets/controls",
            "_model_module_version": "1.5.0",
            "_model_name": "DescriptionStyleModel",
            "_view_count": null,
            "_view_module": "@jupyter-widgets/base",
            "_view_module_version": "1.2.0",
            "_view_name": "StyleView",
            "description_width": ""
          }
        },
        "8429082934b8411fa85c5b2d98dda0ce": {
          "model_module": "@jupyter-widgets/controls",
          "model_name": "HBoxModel",
          "model_module_version": "1.5.0",
          "state": {
            "_dom_classes": [],
            "_model_module": "@jupyter-widgets/controls",
            "_model_module_version": "1.5.0",
            "_model_name": "HBoxModel",
            "_view_count": null,
            "_view_module": "@jupyter-widgets/controls",
            "_view_module_version": "1.5.0",
            "_view_name": "HBoxView",
            "box_style": "",
            "children": [
              "IPY_MODEL_b9f4da3fb3194984b0d9ce04c50e5f8b",
              "IPY_MODEL_8bf94ef35e074245b92a6d375c7adbe7",
              "IPY_MODEL_08f65d04808946518604f4434c84ce9c"
            ],
            "layout": "IPY_MODEL_0aa2502b5a774ddfa34d7716154aceac"
          }
        },
        "b9f4da3fb3194984b0d9ce04c50e5f8b": {
          "model_module": "@jupyter-widgets/controls",
          "model_name": "HTMLModel",
          "model_module_version": "1.5.0",
          "state": {
            "_dom_classes": [],
            "_model_module": "@jupyter-widgets/controls",
            "_model_module_version": "1.5.0",
            "_model_name": "HTMLModel",
            "_view_count": null,
            "_view_module": "@jupyter-widgets/controls",
            "_view_module_version": "1.5.0",
            "_view_name": "HTMLView",
            "description": "",
            "description_tooltip": null,
            "layout": "IPY_MODEL_369909379c424d3389aa13158b5ee884",
            "placeholder": "​",
            "style": "IPY_MODEL_cd4b9b26419743f390b8868102beca4e",
            "value": "pytorch_model.bin: 100%"
          }
        },
        "8bf94ef35e074245b92a6d375c7adbe7": {
          "model_module": "@jupyter-widgets/controls",
          "model_name": "FloatProgressModel",
          "model_module_version": "1.5.0",
          "state": {
            "_dom_classes": [],
            "_model_module": "@jupyter-widgets/controls",
            "_model_module_version": "1.5.0",
            "_model_name": "FloatProgressModel",
            "_view_count": null,
            "_view_module": "@jupyter-widgets/controls",
            "_view_module_version": "1.5.0",
            "_view_name": "ProgressView",
            "bar_style": "success",
            "description": "",
            "description_tooltip": null,
            "layout": "IPY_MODEL_7ee56853ac1c443ca805bb68dd5a04e2",
            "max": 542923308,
            "min": 0,
            "orientation": "horizontal",
            "style": "IPY_MODEL_45f5098a13b34f30ac15b16910be9f1a",
            "value": 542923308
          }
        },
        "08f65d04808946518604f4434c84ce9c": {
          "model_module": "@jupyter-widgets/controls",
          "model_name": "HTMLModel",
          "model_module_version": "1.5.0",
          "state": {
            "_dom_classes": [],
            "_model_module": "@jupyter-widgets/controls",
            "_model_module_version": "1.5.0",
            "_model_name": "HTMLModel",
            "_view_count": null,
            "_view_module": "@jupyter-widgets/controls",
            "_view_module_version": "1.5.0",
            "_view_name": "HTMLView",
            "description": "",
            "description_tooltip": null,
            "layout": "IPY_MODEL_74d4e09055cf4755b9f32357366a42f6",
            "placeholder": "​",
            "style": "IPY_MODEL_af5387432ef04bb1ae879c3b2d0d60b1",
            "value": " 543M/543M [00:02&lt;00:00, 234MB/s]"
          }
        },
        "0aa2502b5a774ddfa34d7716154aceac": {
          "model_module": "@jupyter-widgets/base",
          "model_name": "LayoutModel",
          "model_module_version": "1.2.0",
          "state": {
            "_model_module": "@jupyter-widgets/base",
            "_model_module_version": "1.2.0",
            "_model_name": "LayoutModel",
            "_view_count": null,
            "_view_module": "@jupyter-widgets/base",
            "_view_module_version": "1.2.0",
            "_view_name": "LayoutView",
            "align_content": null,
            "align_items": null,
            "align_self": null,
            "border": null,
            "bottom": null,
            "display": null,
            "flex": null,
            "flex_flow": null,
            "grid_area": null,
            "grid_auto_columns": null,
            "grid_auto_flow": null,
            "grid_auto_rows": null,
            "grid_column": null,
            "grid_gap": null,
            "grid_row": null,
            "grid_template_areas": null,
            "grid_template_columns": null,
            "grid_template_rows": null,
            "height": null,
            "justify_content": null,
            "justify_items": null,
            "left": null,
            "margin": null,
            "max_height": null,
            "max_width": null,
            "min_height": null,
            "min_width": null,
            "object_fit": null,
            "object_position": null,
            "order": null,
            "overflow": null,
            "overflow_x": null,
            "overflow_y": null,
            "padding": null,
            "right": null,
            "top": null,
            "visibility": null,
            "width": null
          }
        },
        "369909379c424d3389aa13158b5ee884": {
          "model_module": "@jupyter-widgets/base",
          "model_name": "LayoutModel",
          "model_module_version": "1.2.0",
          "state": {
            "_model_module": "@jupyter-widgets/base",
            "_model_module_version": "1.2.0",
            "_model_name": "LayoutModel",
            "_view_count": null,
            "_view_module": "@jupyter-widgets/base",
            "_view_module_version": "1.2.0",
            "_view_name": "LayoutView",
            "align_content": null,
            "align_items": null,
            "align_self": null,
            "border": null,
            "bottom": null,
            "display": null,
            "flex": null,
            "flex_flow": null,
            "grid_area": null,
            "grid_auto_columns": null,
            "grid_auto_flow": null,
            "grid_auto_rows": null,
            "grid_column": null,
            "grid_gap": null,
            "grid_row": null,
            "grid_template_areas": null,
            "grid_template_columns": null,
            "grid_template_rows": null,
            "height": null,
            "justify_content": null,
            "justify_items": null,
            "left": null,
            "margin": null,
            "max_height": null,
            "max_width": null,
            "min_height": null,
            "min_width": null,
            "object_fit": null,
            "object_position": null,
            "order": null,
            "overflow": null,
            "overflow_x": null,
            "overflow_y": null,
            "padding": null,
            "right": null,
            "top": null,
            "visibility": null,
            "width": null
          }
        },
        "cd4b9b26419743f390b8868102beca4e": {
          "model_module": "@jupyter-widgets/controls",
          "model_name": "DescriptionStyleModel",
          "model_module_version": "1.5.0",
          "state": {
            "_model_module": "@jupyter-widgets/controls",
            "_model_module_version": "1.5.0",
            "_model_name": "DescriptionStyleModel",
            "_view_count": null,
            "_view_module": "@jupyter-widgets/base",
            "_view_module_version": "1.2.0",
            "_view_name": "StyleView",
            "description_width": ""
          }
        },
        "7ee56853ac1c443ca805bb68dd5a04e2": {
          "model_module": "@jupyter-widgets/base",
          "model_name": "LayoutModel",
          "model_module_version": "1.2.0",
          "state": {
            "_model_module": "@jupyter-widgets/base",
            "_model_module_version": "1.2.0",
            "_model_name": "LayoutModel",
            "_view_count": null,
            "_view_module": "@jupyter-widgets/base",
            "_view_module_version": "1.2.0",
            "_view_name": "LayoutView",
            "align_content": null,
            "align_items": null,
            "align_self": null,
            "border": null,
            "bottom": null,
            "display": null,
            "flex": null,
            "flex_flow": null,
            "grid_area": null,
            "grid_auto_columns": null,
            "grid_auto_flow": null,
            "grid_auto_rows": null,
            "grid_column": null,
            "grid_gap": null,
            "grid_row": null,
            "grid_template_areas": null,
            "grid_template_columns": null,
            "grid_template_rows": null,
            "height": null,
            "justify_content": null,
            "justify_items": null,
            "left": null,
            "margin": null,
            "max_height": null,
            "max_width": null,
            "min_height": null,
            "min_width": null,
            "object_fit": null,
            "object_position": null,
            "order": null,
            "overflow": null,
            "overflow_x": null,
            "overflow_y": null,
            "padding": null,
            "right": null,
            "top": null,
            "visibility": null,
            "width": null
          }
        },
        "45f5098a13b34f30ac15b16910be9f1a": {
          "model_module": "@jupyter-widgets/controls",
          "model_name": "ProgressStyleModel",
          "model_module_version": "1.5.0",
          "state": {
            "_model_module": "@jupyter-widgets/controls",
            "_model_module_version": "1.5.0",
            "_model_name": "ProgressStyleModel",
            "_view_count": null,
            "_view_module": "@jupyter-widgets/base",
            "_view_module_version": "1.2.0",
            "_view_name": "StyleView",
            "bar_color": null,
            "description_width": ""
          }
        },
        "74d4e09055cf4755b9f32357366a42f6": {
          "model_module": "@jupyter-widgets/base",
          "model_name": "LayoutModel",
          "model_module_version": "1.2.0",
          "state": {
            "_model_module": "@jupyter-widgets/base",
            "_model_module_version": "1.2.0",
            "_model_name": "LayoutModel",
            "_view_count": null,
            "_view_module": "@jupyter-widgets/base",
            "_view_module_version": "1.2.0",
            "_view_name": "LayoutView",
            "align_content": null,
            "align_items": null,
            "align_self": null,
            "border": null,
            "bottom": null,
            "display": null,
            "flex": null,
            "flex_flow": null,
            "grid_area": null,
            "grid_auto_columns": null,
            "grid_auto_flow": null,
            "grid_auto_rows": null,
            "grid_column": null,
            "grid_gap": null,
            "grid_row": null,
            "grid_template_areas": null,
            "grid_template_columns": null,
            "grid_template_rows": null,
            "height": null,
            "justify_content": null,
            "justify_items": null,
            "left": null,
            "margin": null,
            "max_height": null,
            "max_width": null,
            "min_height": null,
            "min_width": null,
            "object_fit": null,
            "object_position": null,
            "order": null,
            "overflow": null,
            "overflow_x": null,
            "overflow_y": null,
            "padding": null,
            "right": null,
            "top": null,
            "visibility": null,
            "width": null
          }
        },
        "af5387432ef04bb1ae879c3b2d0d60b1": {
          "model_module": "@jupyter-widgets/controls",
          "model_name": "DescriptionStyleModel",
          "model_module_version": "1.5.0",
          "state": {
            "_model_module": "@jupyter-widgets/controls",
            "_model_module_version": "1.5.0",
            "_model_name": "DescriptionStyleModel",
            "_view_count": null,
            "_view_module": "@jupyter-widgets/base",
            "_view_module_version": "1.2.0",
            "_view_name": "StyleView",
            "description_width": ""
          }
        }
      }
    },
    "colab": {
      "provenance": [],
      "gpuType": "T4"
    },
    "accelerator": "GPU"
  },
  "nbformat": 4,
  "nbformat_minor": 5
}